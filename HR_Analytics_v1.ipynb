{
 "cells": [
  {
   "cell_type": "code",
   "execution_count": 1,
   "metadata": {},
   "outputs": [],
   "source": [
    "import pandas as pd"
   ]
  },
  {
   "cell_type": "code",
   "execution_count": 2,
   "metadata": {},
   "outputs": [],
   "source": [
    "from sklearn.tree import DecisionTreeClassifier\n",
    "from sklearn.ensemble import RandomForestClassifier\n",
    "from sklearn.linear_model import LogisticRegression\n",
    "from sklearn.svm import SVC \n",
    "from sklearn.model_selection import train_test_split\n",
    "import numpy as np\n",
    "\n",
    "from sklearn.model_selection import cross_val_score\n",
    "%matplotlib inline\n",
    "from sklearn.metrics import precision_recall_curve, roc_curve, auc, precision_recall_fscore_support,precision_score,recall_score,f1_score\n",
    "from IPython.display import display\n",
    "import matplotlib.pyplot as plt\n",
    "import random\n",
    "from sklearn.metrics import confusion_matrix\n",
    "\n",
    "\n",
    "pd.set_option('display.max_colwidth', 100)\n",
    "pd.set_option('display.max_columns', 100)\n",
    "pd.set_option('display.max_rows', 1000)\n",
    "\n",
    "plt.style.use('ggplot')\n",
    "\n",
    "def randomised_search_cv(classifier,parameters,df,col_list,labels,num_iter=500):\n",
    "    accuracy_list = []\n",
    "    RSEED = 42\n",
    "    for i in range(num_iter):\n",
    "        \n",
    "        if i%(num_iter/4)==0:\n",
    "            print(str(i)+\"iterations ran\")\n",
    "\n",
    "        param_iter = {}\n",
    "        for key,value in parameters.items():\n",
    "            param_iter[key] = random.choice(value)\n",
    "        clf = classifier(random_state=RSEED, **param_iter)\n",
    "\n",
    "        scores = cross_val_score(clf, df[col_list], labels, cv=5,scoring=\"f1\")\n",
    "        accuracy_list += [(param_iter, np.mean(scores))]\n",
    "\n",
    "    accuracy_list.sort(key = lambda x: x[1])\n",
    "    print(accuracy_list[-1])\n",
    "    return accuracy_list[-1]\n",
    "\n",
    "def generate_prc(y_true, y_proba):\n",
    "    return precision_recall_curve(y_true, y_proba[:, 1])\n",
    "\n",
    "def plot_curves(clf_curves, ctype='roc', legend=False):\n",
    "    clfs = clf_curves.keys()\n",
    "    \n",
    "    fig = plt.figure(figsize=(8, 8))\n",
    "    ax = fig.add_subplot(111)\n",
    "    for clf, curve in clf_curves.items():\n",
    "        if ctype == 'roc':\n",
    "            x = curve[0]\n",
    "            y = curve[1]\n",
    "            xlabel = 'False Positive Rate'\n",
    "            ylabel = 'True Positive Rate'\n",
    "            ax.plot([0, 1], [0, 1], 'k--', lw=1, alpha=0.5)\n",
    "        if ctype == 'prc':\n",
    "            x = curve[1]\n",
    "            y = curve[0]\n",
    "            xlabel = 'Recall'\n",
    "            ylabel = 'Precision'\n",
    "        if 'all' in clf:\n",
    "            ax.plot(x, y, lw=3, color='k', label='%s AUC: %.4f' % (clf, auc(x, y)))\n",
    "        else:\n",
    "            ax.plot(x, y, lw=2, alpha=0.5, label='%s AUC: %.4f' % (clf, auc(x, y)))\n",
    "    ax.set_xlabel(xlabel, fontsize=14)\n",
    "    ax.set_ylabel(ylabel, fontsize=14)\n",
    "    if legend:\n",
    "        ax.legend(loc='best', fontsize=10)\n",
    "    ax.set_xlim(-0.05, 1.05)\n",
    "    ax.set_ylim(-0.05, 1.05)\n",
    "    ax.set_xticks(np.linspace(0, 1, 11))\n",
    "    ax.set_yticks(np.linspace(0, 1, 11))\n",
    "    \n",
    "    \n",
    "def modelbuilder(classifier,parameters,train_data,test_data,col_list,train_labels,test_labels,holdout_df,title):\n",
    "    clf = classifier(**parameters)\n",
    "    trained_model = clf.fit(train_data[col_list], train_labels)\n",
    "    print(\"Precision on train\",precision_score(train_labels,clf.predict(train_data[col_list])) )\n",
    "    print(\"Recall on train\",recall_score(train_labels,clf.predict(train_data[col_list])) )\n",
    "    print(\"F1 score on train\",f1_score(train_labels,clf.predict(train_data[col_list])) )\n",
    "#     params = {\"verbose\":0}\n",
    "    \n",
    "#     trained_model.set_params(**parameters)\n",
    "    y_pred = clf.predict_proba(test_data[col_list])\n",
    "    inc_prc = generate_prc(test_labels, y_pred)\n",
    "    plot_curves({title: inc_prc}, ctype='prc', legend=True)\n",
    "    y_predicted = clf.predict(test_data[col_list])\n",
    "    prec_score= precision_score(test_labels,y_predicted)\n",
    "    rec_score= recall_score(test_labels,y_predicted)\n",
    "    f1 = 2*(prec_score*rec_score)/(prec_score+rec_score)\n",
    "    print(\"Precision on test:\",prec_score)\n",
    "    print(\"Recall on test:\",rec_score)\n",
    "    print(\"F1 Score on test: \",f1)\n",
    "    print(confusion_matrix(test_labels, y_predicted))\n",
    "    holdout_df = holdout_df.copy()\n",
    "    holdout_df['is_promoted'] = clf.predict(holdout_df[col_list])\n",
    "    holdout_df[['employee_id','is_promoted']].to_csv(\"../submissions/\"+title+\".csv\",index=False)"
   ]
  },
  {
   "cell_type": "code",
   "execution_count": 3,
   "metadata": {},
   "outputs": [],
   "source": [
    "train = pd.read_csv(\"../datasets/train_LZdllcl.csv\")"
   ]
  },
  {
   "cell_type": "code",
   "execution_count": 4,
   "metadata": {},
   "outputs": [
    {
     "data": {
      "text/html": [
       "<div>\n",
       "<style scoped>\n",
       "    .dataframe tbody tr th:only-of-type {\n",
       "        vertical-align: middle;\n",
       "    }\n",
       "\n",
       "    .dataframe tbody tr th {\n",
       "        vertical-align: top;\n",
       "    }\n",
       "\n",
       "    .dataframe thead th {\n",
       "        text-align: right;\n",
       "    }\n",
       "</style>\n",
       "<table border=\"1\" class=\"dataframe\">\n",
       "  <thead>\n",
       "    <tr style=\"text-align: right;\">\n",
       "      <th></th>\n",
       "      <th>employee_id</th>\n",
       "      <th>department</th>\n",
       "      <th>region</th>\n",
       "      <th>education</th>\n",
       "      <th>gender</th>\n",
       "      <th>recruitment_channel</th>\n",
       "      <th>no_of_trainings</th>\n",
       "      <th>age</th>\n",
       "      <th>previous_year_rating</th>\n",
       "      <th>length_of_service</th>\n",
       "      <th>KPIs_met &gt;80%</th>\n",
       "      <th>awards_won?</th>\n",
       "      <th>avg_training_score</th>\n",
       "      <th>is_promoted</th>\n",
       "    </tr>\n",
       "  </thead>\n",
       "  <tbody>\n",
       "    <tr>\n",
       "      <th>0</th>\n",
       "      <td>65438</td>\n",
       "      <td>Sales &amp; Marketing</td>\n",
       "      <td>region_7</td>\n",
       "      <td>Master's &amp; above</td>\n",
       "      <td>f</td>\n",
       "      <td>sourcing</td>\n",
       "      <td>1</td>\n",
       "      <td>35</td>\n",
       "      <td>5.0</td>\n",
       "      <td>8</td>\n",
       "      <td>1</td>\n",
       "      <td>0</td>\n",
       "      <td>49</td>\n",
       "      <td>0</td>\n",
       "    </tr>\n",
       "    <tr>\n",
       "      <th>1</th>\n",
       "      <td>65141</td>\n",
       "      <td>Operations</td>\n",
       "      <td>region_22</td>\n",
       "      <td>Bachelor's</td>\n",
       "      <td>m</td>\n",
       "      <td>other</td>\n",
       "      <td>1</td>\n",
       "      <td>30</td>\n",
       "      <td>5.0</td>\n",
       "      <td>4</td>\n",
       "      <td>0</td>\n",
       "      <td>0</td>\n",
       "      <td>60</td>\n",
       "      <td>0</td>\n",
       "    </tr>\n",
       "    <tr>\n",
       "      <th>2</th>\n",
       "      <td>7513</td>\n",
       "      <td>Sales &amp; Marketing</td>\n",
       "      <td>region_19</td>\n",
       "      <td>Bachelor's</td>\n",
       "      <td>m</td>\n",
       "      <td>sourcing</td>\n",
       "      <td>1</td>\n",
       "      <td>34</td>\n",
       "      <td>3.0</td>\n",
       "      <td>7</td>\n",
       "      <td>0</td>\n",
       "      <td>0</td>\n",
       "      <td>50</td>\n",
       "      <td>0</td>\n",
       "    </tr>\n",
       "    <tr>\n",
       "      <th>3</th>\n",
       "      <td>2542</td>\n",
       "      <td>Sales &amp; Marketing</td>\n",
       "      <td>region_23</td>\n",
       "      <td>Bachelor's</td>\n",
       "      <td>m</td>\n",
       "      <td>other</td>\n",
       "      <td>2</td>\n",
       "      <td>39</td>\n",
       "      <td>1.0</td>\n",
       "      <td>10</td>\n",
       "      <td>0</td>\n",
       "      <td>0</td>\n",
       "      <td>50</td>\n",
       "      <td>0</td>\n",
       "    </tr>\n",
       "    <tr>\n",
       "      <th>4</th>\n",
       "      <td>48945</td>\n",
       "      <td>Technology</td>\n",
       "      <td>region_26</td>\n",
       "      <td>Bachelor's</td>\n",
       "      <td>m</td>\n",
       "      <td>other</td>\n",
       "      <td>1</td>\n",
       "      <td>45</td>\n",
       "      <td>3.0</td>\n",
       "      <td>2</td>\n",
       "      <td>0</td>\n",
       "      <td>0</td>\n",
       "      <td>73</td>\n",
       "      <td>0</td>\n",
       "    </tr>\n",
       "  </tbody>\n",
       "</table>\n",
       "</div>"
      ],
      "text/plain": [
       "   employee_id         department     region         education gender  \\\n",
       "0        65438  Sales & Marketing   region_7  Master's & above      f   \n",
       "1        65141         Operations  region_22        Bachelor's      m   \n",
       "2         7513  Sales & Marketing  region_19        Bachelor's      m   \n",
       "3         2542  Sales & Marketing  region_23        Bachelor's      m   \n",
       "4        48945         Technology  region_26        Bachelor's      m   \n",
       "\n",
       "  recruitment_channel  no_of_trainings  age  previous_year_rating  \\\n",
       "0            sourcing                1   35                   5.0   \n",
       "1               other                1   30                   5.0   \n",
       "2            sourcing                1   34                   3.0   \n",
       "3               other                2   39                   1.0   \n",
       "4               other                1   45                   3.0   \n",
       "\n",
       "   length_of_service  KPIs_met >80%  awards_won?  avg_training_score  \\\n",
       "0                  8              1            0                  49   \n",
       "1                  4              0            0                  60   \n",
       "2                  7              0            0                  50   \n",
       "3                 10              0            0                  50   \n",
       "4                  2              0            0                  73   \n",
       "\n",
       "   is_promoted  \n",
       "0            0  \n",
       "1            0  \n",
       "2            0  \n",
       "3            0  \n",
       "4            0  "
      ]
     },
     "execution_count": 4,
     "metadata": {},
     "output_type": "execute_result"
    }
   ],
   "source": [
    "train.head()"
   ]
  },
  {
   "cell_type": "code",
   "execution_count": 5,
   "metadata": {},
   "outputs": [
    {
     "data": {
      "text/plain": [
       "(54808, 14)"
      ]
     },
     "execution_count": 5,
     "metadata": {},
     "output_type": "execute_result"
    }
   ],
   "source": [
    "train.shape"
   ]
  },
  {
   "cell_type": "code",
   "execution_count": 6,
   "metadata": {},
   "outputs": [
    {
     "data": {
      "text/plain": [
       "employee_id                0\n",
       "department                 0\n",
       "region                     0\n",
       "education               2409\n",
       "gender                     0\n",
       "recruitment_channel        0\n",
       "no_of_trainings            0\n",
       "age                        0\n",
       "previous_year_rating    4124\n",
       "length_of_service          0\n",
       "KPIs_met >80%              0\n",
       "awards_won?                0\n",
       "avg_training_score         0\n",
       "is_promoted                0\n",
       "dtype: int64"
      ]
     },
     "execution_count": 6,
     "metadata": {},
     "output_type": "execute_result"
    }
   ],
   "source": [
    "train.isnull().sum()"
   ]
  },
  {
   "cell_type": "code",
   "execution_count": 7,
   "metadata": {},
   "outputs": [
    {
     "data": {
      "text/plain": [
       "0    50140\n",
       "1     4668\n",
       "Name: is_promoted, dtype: int64"
      ]
     },
     "execution_count": 7,
     "metadata": {},
     "output_type": "execute_result"
    }
   ],
   "source": [
    "train['is_promoted'].value_counts()"
   ]
  },
  {
   "cell_type": "code",
   "execution_count": 8,
   "metadata": {},
   "outputs": [],
   "source": [
    "event_rate = train['is_promoted'].mean()"
   ]
  },
  {
   "cell_type": "code",
   "execution_count": 9,
   "metadata": {},
   "outputs": [
    {
     "data": {
      "text/plain": [
       "0    0.91483\n",
       "1    0.08517\n",
       "Name: is_promoted, dtype: float64"
      ]
     },
     "execution_count": 9,
     "metadata": {},
     "output_type": "execute_result"
    }
   ],
   "source": [
    "train['is_promoted'].value_counts(normalize=True)"
   ]
  },
  {
   "cell_type": "code",
   "execution_count": 10,
   "metadata": {},
   "outputs": [
    {
     "data": {
      "text/plain": [
       "Index(['employee_id', 'department', 'region', 'education', 'gender',\n",
       "       'recruitment_channel', 'no_of_trainings', 'age', 'previous_year_rating',\n",
       "       'length_of_service', 'KPIs_met >80%', 'awards_won?',\n",
       "       'avg_training_score', 'is_promoted'],\n",
       "      dtype='object')"
      ]
     },
     "execution_count": 10,
     "metadata": {},
     "output_type": "execute_result"
    }
   ],
   "source": [
    "train.columns"
   ]
  },
  {
   "cell_type": "code",
   "execution_count": 11,
   "metadata": {
    "scrolled": false
   },
   "outputs": [
    {
     "name": "stdout",
     "output_type": "stream",
     "text": [
      "department 9\n",
      "region 34\n",
      "education 3\n",
      "gender 2\n",
      "recruitment_channel 3\n",
      "no_of_trainings 10\n",
      "age 41\n",
      "previous_year_rating 5\n",
      "length_of_service 35\n",
      "KPIs_met >80% 2\n",
      "awards_won? 2\n",
      "avg_training_score 61\n"
     ]
    }
   ],
   "source": [
    "for col in ['department', 'region', 'education', 'gender',\n",
    "       'recruitment_channel', 'no_of_trainings', 'age', 'previous_year_rating',\n",
    "       'length_of_service', 'KPIs_met >80%', 'awards_won?',\n",
    "       'avg_training_score']:\n",
    "    print(col,train[col].nunique())"
   ]
  },
  {
   "cell_type": "code",
   "execution_count": 12,
   "metadata": {},
   "outputs": [],
   "source": [
    "def age(num):\n",
    "    if  20 <= num < 25:\n",
    "        return \"[20-25)\"\n",
    "    elif 25 <= num < 30:\n",
    "        return \"[25-30)\"\n",
    "    elif 30 <= num < 35:\n",
    "        return \"[30-35)\"\n",
    "    elif 35 <= num < 40:\n",
    "        return \"[35-40)\"\n",
    "    elif 40 <= num < 50:\n",
    "        return \"[40-50)\"\n",
    "    else:\n",
    "        return \">=50\""
   ]
  },
  {
   "cell_type": "code",
   "execution_count": 13,
   "metadata": {},
   "outputs": [],
   "source": [
    "train['education'] = train['education'].fillna(\"Missing\")\n",
    "\n",
    "train['previous_year_rating'] = train['previous_year_rating'].fillna(3)\n",
    "\n",
    "\n",
    "\n",
    "train['age_bin'] = list(map(lambda x: age(x), train['age']))"
   ]
  },
  {
   "cell_type": "code",
   "execution_count": 14,
   "metadata": {},
   "outputs": [
    {
     "data": {
      "text/plain": [
       "Index(['employee_id', 'department', 'region', 'education', 'gender',\n",
       "       'recruitment_channel', 'no_of_trainings', 'age', 'previous_year_rating',\n",
       "       'length_of_service', 'KPIs_met >80%', 'awards_won?',\n",
       "       'avg_training_score', 'is_promoted', 'age_bin'],\n",
       "      dtype='object')"
      ]
     },
     "execution_count": 14,
     "metadata": {},
     "output_type": "execute_result"
    }
   ],
   "source": [
    "train.columns"
   ]
  },
  {
   "cell_type": "code",
   "execution_count": 15,
   "metadata": {},
   "outputs": [],
   "source": [
    "dummy_col_list = ['department', 'region', 'education', 'gender','recruitment_channel','age_bin']"
   ]
  },
  {
   "cell_type": "code",
   "execution_count": 16,
   "metadata": {},
   "outputs": [
    {
     "name": "stdout",
     "output_type": "stream",
     "text": [
      "          department  event_rate\n",
      "8         Technology    0.107593\n",
      "5        Procurement    0.096386\n",
      "0          Analytics    0.095665\n",
      "4         Operations    0.090148\n",
      "1            Finance    0.081230\n",
      "7  Sales & Marketing    0.072031\n",
      "6                R&D    0.069069\n",
      "2                 HR    0.056245\n",
      "3              Legal    0.051011\n",
      "       region  event_rate\n",
      "28   region_4    0.144451\n",
      "8   region_17    0.136935\n",
      "17  region_25    0.125763\n",
      "20  region_28    0.116844\n",
      "15  region_23    0.116596\n",
      "14  region_22    0.114188\n",
      "22   region_3    0.106936\n",
      "31   region_7    0.106546\n",
      "0    region_1    0.095082\n",
      "23  region_30    0.089802\n",
      "4   region_13    0.086858\n",
      "32   region_8    0.080916\n",
      "11   region_2    0.080126\n",
      "6   region_15    0.079060\n",
      "19  region_27    0.078963\n",
      "1   region_10    0.078704\n",
      "5   region_14    0.074970\n",
      "7   region_16    0.069625\n",
      "3   region_12    0.066000\n",
      "18  region_26    0.063274\n",
      "10  region_19    0.060641\n",
      "12  region_20    0.057647\n",
      "24  region_31    0.056848\n",
      "2   region_11    0.056274\n",
      "30   region_6    0.046377\n",
      "29   region_5    0.045692\n",
      "13  region_21    0.043796\n",
      "21  region_29    0.043260\n",
      "25  region_32    0.042328\n",
      "26  region_33    0.037175\n",
      "16  region_24    0.035433\n",
      "9   region_18    0.032258\n",
      "27  region_34    0.027397\n",
      "33   region_9    0.019048\n",
      "          education  event_rate\n",
      "2  Master's & above    0.098559\n",
      "1   Below Secondary    0.083230\n",
      "0        Bachelor's    0.082031\n",
      "3           Missing    0.050643\n",
      "  gender  event_rate\n",
      "0      f    0.089934\n",
      "1      m    0.083151\n",
      "  recruitment_channel  event_rate\n",
      "1            referred    0.120841\n",
      "2            sourcing    0.085013\n",
      "0               other    0.083952\n",
      "   age_bin  event_rate\n",
      "4  [35-40)    0.092635\n",
      "3  [30-35)    0.090252\n",
      "2  [25-30)    0.085963\n",
      "1  [20-25)    0.076385\n",
      "5  [40-50)    0.074173\n",
      "0     >=50    0.065817\n"
     ]
    }
   ],
   "source": [
    "for col in dummy_col_list:\n",
    "    print(train.groupby([col]).agg({'is_promoted':'mean'}).reset_index().rename(columns={'is_promoted':'event_rate'}).sort_values(by='event_rate',ascending=False))"
   ]
  },
  {
   "cell_type": "code",
   "execution_count": 17,
   "metadata": {},
   "outputs": [],
   "source": [
    "train2 = pd.get_dummies(train,columns=dummy_col_list)"
   ]
  },
  {
   "cell_type": "code",
   "execution_count": 18,
   "metadata": {},
   "outputs": [],
   "source": [
    "X_train, X_test, y_train, y_test = train_test_split(train2[[x for x in train2.columns if x not in ['is_promoted','employee_id']]], train2['is_promoted'], test_size=0.3, random_state=1)"
   ]
  },
  {
   "cell_type": "code",
   "execution_count": 19,
   "metadata": {},
   "outputs": [
    {
     "data": {
      "text/plain": [
       "(38365, 65)"
      ]
     },
     "execution_count": 19,
     "metadata": {},
     "output_type": "execute_result"
    }
   ],
   "source": [
    "X_train.shape"
   ]
  },
  {
   "cell_type": "code",
   "execution_count": 20,
   "metadata": {},
   "outputs": [],
   "source": [
    "test = pd.read_csv(\"../datasets/test_2umaH9m.csv\")"
   ]
  },
  {
   "cell_type": "code",
   "execution_count": 21,
   "metadata": {},
   "outputs": [
    {
     "name": "stdout",
     "output_type": "stream",
     "text": [
      "employee_id                0\n",
      "department                 0\n",
      "region                     0\n",
      "education               1034\n",
      "gender                     0\n",
      "recruitment_channel        0\n",
      "no_of_trainings            0\n",
      "age                        0\n",
      "previous_year_rating    1812\n",
      "length_of_service          0\n",
      "KPIs_met >80%              0\n",
      "awards_won?                0\n",
      "avg_training_score         0\n",
      "dtype: int64\n",
      "employee_id             0\n",
      "department              0\n",
      "region                  0\n",
      "education               0\n",
      "gender                  0\n",
      "recruitment_channel     0\n",
      "no_of_trainings         0\n",
      "age                     0\n",
      "previous_year_rating    0\n",
      "length_of_service       0\n",
      "KPIs_met >80%           0\n",
      "awards_won?             0\n",
      "avg_training_score      0\n",
      "age_bin                 0\n",
      "dtype: int64\n"
     ]
    }
   ],
   "source": [
    "print(test.isnull().sum())\n",
    "\n",
    "test['education'] = test['education'].fillna(\"Missing\")\n",
    "\n",
    "test['previous_year_rating'] = test['previous_year_rating'].fillna(3)\n",
    "test['age_bin'] = list(map(lambda x: age(x), test['age']))\n",
    "print(test.isnull().sum())"
   ]
  },
  {
   "cell_type": "code",
   "execution_count": 22,
   "metadata": {},
   "outputs": [
    {
     "name": "stdout",
     "output_type": "stream",
     "text": [
      "department 9\n",
      "region 34\n",
      "education 4\n",
      "gender 2\n",
      "recruitment_channel 3\n",
      "age_bin 6\n"
     ]
    }
   ],
   "source": [
    "for col in dummy_col_list:\n",
    "    print(col,test[col].nunique())"
   ]
  },
  {
   "cell_type": "code",
   "execution_count": 23,
   "metadata": {},
   "outputs": [
    {
     "name": "stdout",
     "output_type": "stream",
     "text": [
      "(23490, 66)\n"
     ]
    }
   ],
   "source": [
    "test_processed = pd.get_dummies(test,columns=dummy_col_list)\n",
    "print(test_processed.shape)"
   ]
  },
  {
   "cell_type": "code",
   "execution_count": 24,
   "metadata": {},
   "outputs": [
    {
     "name": "stdout",
     "output_type": "stream",
     "text": [
      "0iterations ran\n",
      "125iterations ran\n",
      "250iterations ran\n",
      "375iterations ran\n",
      "({'max_features': None, 'splitter': 'best', 'criterion': 'gini', 'max_depth': 6, 'min_samples_split': 0.04, 'min_samples_leaf': 0.015, 'min_impurity_decrease': 0.01}, 0.23317673738336325)\n",
      "Precision on train 0.6346414073071719\n",
      "Recall on train 0.14285714285714285\n",
      "F1 score on train 0.2332173048234709\n",
      "Precision on test: 0.6196319018404908\n",
      "Recall on test: 0.14584837545126353\n",
      "F1 Score on test:  0.23611922852133255\n",
      "[[14934   124]\n",
      " [ 1183   202]]\n"
     ]
    },
    {
     "data": {
      "image/png": "[encoded data removed]",
      "text/plain": [
       "<Figure size 576x576 with 1 Axes>"
      ]
     },
     "metadata": {
      "needs_background": "light"
     },
     "output_type": "display_data"
    }
   ],
   "source": [
    "col_list = [x for x in train2.columns if x not in ['is_promoted','employee_id']]\n",
    "\n",
    "parameters_dt = {'max_features':['auto', 'sqrt', 'log2',None],'splitter':['best'], 'criterion':['gini', 'entropy'], 'max_depth':[2,3,4,5,6,7,8,9,10], 'min_samples_split':[.005,.01,.015,.02,.025,.03,.035,.04,.045,.05], 'min_samples_leaf':[.005,.01,.015,.02,.025,.03,.035,.04,.045,.05], 'min_impurity_decrease':list(np.arange(0,0.11,.01)) }\n",
    "accuracy_dt = randomised_search_cv(DecisionTreeClassifier,parameters_dt,X_train,col_list,y_train,num_iter=500)\n",
    "modelbuilder(DecisionTreeClassifier,accuracy_dt[0],X_train,X_test,col_list,y_train,y_test,test_processed,\"Decision tree with tags,dev,pub\")"
   ]
  },
  {
   "cell_type": "code",
   "execution_count": 25,
   "metadata": {},
   "outputs": [
    {
     "name": "stdout",
     "output_type": "stream",
     "text": [
      "0iterations ran\n",
      "({'n_estimators': 250, 'max_features': None, 'criterion': 'gini', 'max_depth': 9, 'min_impurity_decrease': 0.0}, 0.4251766330267081)\n",
      "Precision on train 0.998019801980198\n",
      "Recall on train 0.3070362473347548\n",
      "F1 score on train 0.46960167714884704\n",
      "Precision on test: 0.9539170506912442\n",
      "Recall on test: 0.29891696750902524\n",
      "F1 Score on test:  0.45519516217702033\n",
      "[[15038    20]\n",
      " [  971   414]]\n"
     ]
    },
    {
     "data": {
      "image/png": "[encoded data removed]",
      "text/plain": [
       "<Figure size 576x576 with 1 Axes>"
      ]
     },
     "metadata": {
      "needs_background": "light"
     },
     "output_type": "display_data"
    }
   ],
   "source": [
    "col_list = ['no_of_trainings',\n",
    " 'age',\n",
    " 'previous_year_rating',\n",
    " 'length_of_service',\n",
    " 'KPIs_met >80%',\n",
    " 'awards_won?',\n",
    " 'avg_training_score',\n",
    " 'department_Analytics',\n",
    " 'department_Finance',\n",
    " 'department_HR',\n",
    " 'department_Legal',\n",
    " 'department_Operations',\n",
    " 'department_Procurement',\n",
    " 'department_R&D',\n",
    " 'department_Sales & Marketing',\n",
    " 'department_Technology',\n",
    " 'region_region_1',\n",
    " 'region_region_10',\n",
    " 'region_region_11',\n",
    " 'region_region_12',\n",
    " 'region_region_13',\n",
    " 'region_region_14',\n",
    " 'region_region_15',\n",
    " 'region_region_16',\n",
    " 'region_region_17',\n",
    " 'region_region_18',\n",
    " 'region_region_19',\n",
    " 'region_region_2',\n",
    " 'region_region_20',\n",
    " 'region_region_21',\n",
    " 'region_region_22',\n",
    " 'region_region_23',\n",
    " 'region_region_24',\n",
    " 'region_region_25',\n",
    " 'region_region_26',\n",
    " 'region_region_27',\n",
    " 'region_region_28',\n",
    " 'region_region_29',\n",
    " 'region_region_3',\n",
    " 'region_region_30',\n",
    " 'region_region_31',\n",
    " 'region_region_32',\n",
    " 'region_region_33',\n",
    " 'region_region_34',\n",
    " 'region_region_4',\n",
    " 'region_region_5',\n",
    " 'region_region_6',\n",
    " 'region_region_7',\n",
    " 'region_region_8',\n",
    " 'region_region_9',\n",
    " \"education_Bachelor's\",\n",
    " 'education_Below Secondary',\n",
    " \"education_Master's & above\",\n",
    " 'education_Missing',\n",
    " 'gender_f',\n",
    " 'gender_m',\n",
    " 'recruitment_channel_other',\n",
    " 'recruitment_channel_referred',\n",
    " 'recruitment_channel_sourcing']\n",
    "\n",
    "parameters_rf = {'n_estimators':[100,500,250],'max_features':['sqrt', 'log2',None], 'criterion':['gini', 'entropy'], 'max_depth':[3,4,5,6,7,8,9,10], 'min_impurity_decrease':list(np.arange(0,0.11,.01)) }\n",
    "accuracy_rf = randomised_search_cv(RandomForestClassifier,parameters_rf,X_train,col_list,y_train,num_iter=25)\n",
    "modelbuilder(RandomForestClassifier,accuracy_rf[0],X_train,X_test,col_list,y_train,y_test,test_processed,\"RF with tags,dev,pub\")\n"
   ]
  },
  {
   "cell_type": "code",
   "execution_count": 26,
   "metadata": {},
   "outputs": [
    {
     "name": "stdout",
     "output_type": "stream",
     "text": [
      "Precision on train 0.9970443349753695\n",
      "Recall on train 0.30825464514163875\n",
      "F1 score on train 0.47091670544439274\n",
      "\n",
      "\n",
      "Average probability  0.08532296938520714\n",
      "\n",
      "\n",
      "threshold ->  0.1\n",
      "Precision on Full_data: 0.21569878749202298\n",
      "Recall on Full_data: 0.9413024850042845\n",
      "F1 Score on Full_data:  0.35097248292663447\n",
      "[[34163 15977]\n",
      " [  274  4394]]\n",
      "\n",
      "\n",
      "threshold ->  0.15000000000000002\n",
      "Precision on Full_data: 0.3167008005957922\n",
      "Recall on Full_data: 0.7287917737789203\n",
      "F1 Score on Full_data:  0.4415314730694354\n",
      "[[42800  7340]\n",
      " [ 1266  3402]]\n",
      "\n",
      "\n",
      "threshold ->  0.20000000000000004\n",
      "Precision on Full_data: 0.5977594025073353\n",
      "Recall on Full_data: 0.4800771208226221\n",
      "F1 Score on Full_data:  0.5324937626232624\n",
      "[[48632  1508]\n",
      " [ 2427  2241]]\n",
      "\n",
      "\n",
      "threshold ->  0.25000000000000006\n",
      "Precision on Full_data: 0.7535014005602241\n",
      "Recall on Full_data: 0.4033847472150814\n",
      "F1 Score on Full_data:  0.5254639319101437\n",
      "[[49524   616]\n",
      " [ 2785  1883]]\n",
      "\n",
      "\n",
      "threshold ->  0.30000000000000004\n",
      "Precision on Full_data: 0.8531883341571923\n",
      "Recall on Full_data: 0.369751499571551\n",
      "F1 Score on Full_data:  0.5159169033029443\n",
      "[[49843   297]\n",
      " [ 2942  1726]]\n",
      "\n",
      "\n",
      "threshold ->  0.3500000000000001\n",
      "Precision on Full_data: 0.9436619718309859\n",
      "Recall on Full_data: 0.3444730077120823\n",
      "F1 Score on Full_data:  0.504708097928437\n",
      "[[50044    96]\n",
      " [ 3060  1608]]\n",
      "\n",
      "\n",
      "threshold ->  0.40000000000000013\n",
      "Precision on Full_data: 0.9636251541307028\n",
      "Recall on Full_data: 0.33483290488431877\n",
      "F1 Score on Full_data:  0.4969793322734499\n",
      "[[50081    59]\n",
      " [ 3105  1563]]\n",
      "\n",
      "\n",
      "threshold ->  0.45000000000000007\n",
      "Precision on Full_data: 0.9765100671140939\n",
      "Recall on Full_data: 0.3116966580976864\n",
      "F1 Score on Full_data:  0.47255602468333874\n",
      "[[50105    35]\n",
      " [ 3213  1455]]\n",
      "\n",
      "\n",
      "threshold ->  0.08517004816815063\n",
      "Precision on Full_data: 0.2128111132548717\n",
      "Recall on Full_data: 0.9451585261353899\n",
      "F1 Score on Full_data:  0.3474015748031496\n",
      "[[33820 16320]\n",
      " [  256  4412]]\n",
      "\n",
      "\n"
     ]
    }
   ],
   "source": [
    "model1_parameters = accuracy_rf[0]\n",
    "\n",
    "model1_feature_set = ['no_of_trainings',\n",
    " 'age',\n",
    " 'previous_year_rating',\n",
    " 'length_of_service',\n",
    " 'KPIs_met >80%',\n",
    " 'awards_won?',\n",
    " 'avg_training_score',\n",
    " 'department_Analytics',\n",
    " 'department_Finance',\n",
    " 'department_HR',\n",
    " 'department_Legal',\n",
    " 'department_Operations',\n",
    " 'department_Procurement',\n",
    " 'department_R&D',\n",
    " 'department_Sales & Marketing',\n",
    " 'department_Technology',\n",
    " 'region_region_1',\n",
    " 'region_region_10',\n",
    " 'region_region_11',\n",
    " 'region_region_12',\n",
    " 'region_region_13',\n",
    " 'region_region_14',\n",
    " 'region_region_15',\n",
    " 'region_region_16',\n",
    " 'region_region_17',\n",
    " 'region_region_18',\n",
    " 'region_region_19',\n",
    " 'region_region_2',\n",
    " 'region_region_20',\n",
    " 'region_region_21',\n",
    " 'region_region_22',\n",
    " 'region_region_23',\n",
    " 'region_region_24',\n",
    " 'region_region_25',\n",
    " 'region_region_26',\n",
    " 'region_region_27',\n",
    " 'region_region_28',\n",
    " 'region_region_29',\n",
    " 'region_region_3',\n",
    " 'region_region_30',\n",
    " 'region_region_31',\n",
    " 'region_region_32',\n",
    " 'region_region_33',\n",
    " 'region_region_34',\n",
    " 'region_region_4',\n",
    " 'region_region_5',\n",
    " 'region_region_6',\n",
    " 'region_region_7',\n",
    " 'region_region_8',\n",
    " 'region_region_9',\n",
    " \"education_Bachelor's\",\n",
    " 'education_Below Secondary',\n",
    " \"education_Master's & above\",\n",
    " 'education_Missing',\n",
    " 'gender_f',\n",
    " 'gender_m',\n",
    " 'recruitment_channel_other',\n",
    " 'recruitment_channel_referred',\n",
    " 'recruitment_channel_sourcing']\n",
    "\n",
    "model1_clf = RandomForestClassifier(**model1_parameters,random_state=42)\n",
    "trained_model1 = model1_clf.fit(X_train[model1_feature_set], y_train)\n",
    "print(\"Precision on train\",precision_score(y_train,model1_clf.predict(X_train[model1_feature_set])) )\n",
    "print(\"Recall on train\",recall_score(y_train,model1_clf.predict(X_train[model1_feature_set])) )\n",
    "print(\"F1 score on train\",f1_score(y_train,model1_clf.predict(X_train[model1_feature_set])) )\n",
    "print(\"\\n\")\n",
    "model1_df = pd.DataFrame()\n",
    "model1_df['employee_id'] = train['employee_id']\n",
    "model1_df['is_promoted'] = train['is_promoted']\n",
    "model1_df['probability'] = [x[1] for x in model1_clf.predict_proba(train2[model1_feature_set])]\n",
    "print(\"Average probability \",model1_df['probability'].mean())\n",
    "print(\"\\n\")\n",
    "\n",
    "\n",
    "for threshold in list(np.arange(0.1,0.5,.05))+[event_rate]:\n",
    "    model1_df['threshold_'+str(threshold)+\"pred\"] = list(map(lambda x: 1 if x>= threshold else 0, model1_df['probability']))\n",
    "    prec_score= precision_score(model1_df['is_promoted'],model1_df['threshold_'+str(threshold)+\"pred\"])\n",
    "    rec_score= recall_score(model1_df['is_promoted'],model1_df['threshold_'+str(threshold)+\"pred\"])\n",
    "    f1 = 2*(prec_score*rec_score)/(prec_score+rec_score)\n",
    "    print(\"threshold -> \", threshold)\n",
    "    print(\"Precision on Full_data:\",prec_score)\n",
    "    print(\"Recall on Full_data:\",rec_score)\n",
    "    print(\"F1 Score on Full_data: \",f1)\n",
    "    print(confusion_matrix(model1_df['is_promoted'], model1_df['threshold_'+str(threshold)+\"pred\"]))\n",
    "    print(\"\\n\")\n",
    "    "
   ]
  },
  {
   "cell_type": "code",
   "execution_count": 27,
   "metadata": {},
   "outputs": [],
   "source": [
    "train2['sum_metric'] = train2['awards_won?']+train2['KPIs_met >80%'] + train2['previous_year_rating']\n",
    "test_processed['sum_metric'] = test_processed['awards_won?']+test_processed['KPIs_met >80%'] + test_processed['previous_year_rating']\n",
    "\n",
    "train2['tot_score'] = train2['avg_training_score'] * train2['no_of_trainings']\n",
    "test_processed['tot_score'] = test_processed['avg_training_score'] * test_processed['no_of_trainings']\n",
    "\n",
    "\n",
    "train2['work_fraction'] = train2['length_of_service'] / train2['age']\n",
    "test_processed['work_fraction'] = test_processed['length_of_service'] / test_processed['age']\n",
    "train2['start_year'] = train2['age'] - train2['length_of_service']\n",
    "test_processed['start_year'] = test_processed['age'] - test_processed['length_of_service']"
   ]
  },
  {
   "cell_type": "code",
   "execution_count": 28,
   "metadata": {},
   "outputs": [],
   "source": [
    "ana1 = train.groupby(['region','department']).agg({'avg_training_score':'mean'}).reset_index().rename(columns={'avg_training_score':'avg_training_score_reg_dpt'})\n",
    "\n",
    "cross_train_data = pd.merge(train[['region','department','avg_training_score']],ana1,on=['region','department'],how='left')\n",
    "\n",
    "cross_train_data['better_in_dept_reg'] = list(map(lambda x,y: 1 if x>y else 0 , cross_train_data['avg_training_score'],cross_train_data['avg_training_score_reg_dpt']))\n",
    "\n",
    "cross_test_data = pd.merge(test[['region','department','avg_training_score']],ana1,on=['region','department'],how='left')\n",
    "cross_test_data['better_in_dept_reg'] = list(map(lambda x,y: 1 if x>y else 0 , cross_test_data['avg_training_score'],cross_test_data['avg_training_score_reg_dpt']))"
   ]
  },
  {
   "cell_type": "code",
   "execution_count": 29,
   "metadata": {},
   "outputs": [],
   "source": [
    "train3 = pd.merge(train2,cross_train_data,left_index=True,right_index=True,how=\"left\")\n",
    "test_processed2 = pd.merge(test_processed,cross_test_data,left_index=True,right_index=True,how='left')"
   ]
  },
  {
   "cell_type": "code",
   "execution_count": 31,
   "metadata": {},
   "outputs": [
    {
     "data": {
      "text/plain": [
       "Index(['employee_id', 'no_of_trainings', 'age', 'previous_year_rating',\n",
       "       'length_of_service', 'KPIs_met >80%', 'awards_won?',\n",
       "       'avg_training_score_x', 'is_promoted', 'department_Analytics',\n",
       "       'department_Finance', 'department_HR', 'department_Legal',\n",
       "       'department_Operations', 'department_Procurement', 'department_R&D',\n",
       "       'department_Sales & Marketing', 'department_Technology',\n",
       "       'region_region_1', 'region_region_10', 'region_region_11',\n",
       "       'region_region_12', 'region_region_13', 'region_region_14',\n",
       "       'region_region_15', 'region_region_16', 'region_region_17',\n",
       "       'region_region_18', 'region_region_19', 'region_region_2',\n",
       "       'region_region_20', 'region_region_21', 'region_region_22',\n",
       "       'region_region_23', 'region_region_24', 'region_region_25',\n",
       "       'region_region_26', 'region_region_27', 'region_region_28',\n",
       "       'region_region_29', 'region_region_3', 'region_region_30',\n",
       "       'region_region_31', 'region_region_32', 'region_region_33',\n",
       "       'region_region_34', 'region_region_4', 'region_region_5',\n",
       "       'region_region_6', 'region_region_7', 'region_region_8',\n",
       "       'region_region_9', 'education_Bachelor's', 'education_Below Secondary',\n",
       "       'education_Master's & above', 'education_Missing', 'gender_f',\n",
       "       'gender_m', 'recruitment_channel_other', 'recruitment_channel_referred',\n",
       "       'recruitment_channel_sourcing', 'age_bin_>=50', 'age_bin_[20-25)',\n",
       "       'age_bin_[25-30)', 'age_bin_[30-35)', 'age_bin_[35-40)',\n",
       "       'age_bin_[40-50)', 'sum_metric', 'tot_score', 'work_fraction',\n",
       "       'start_year', 'region', 'department', 'avg_training_score_y',\n",
       "       'avg_training_score_reg_dpt', 'better_in_dept_reg'],\n",
       "      dtype='object')"
      ]
     },
     "execution_count": 31,
     "metadata": {},
     "output_type": "execute_result"
    }
   ],
   "source": [
    "train3.columns"
   ]
  },
  {
   "cell_type": "code",
   "execution_count": 32,
   "metadata": {},
   "outputs": [],
   "source": [
    "X_train, X_test, y_train, y_test = train_test_split(train3[[ 'age_bin_>=50', 'age_bin_[20-25)',\n",
    "       'age_bin_[25-30)', 'age_bin_[30-35)', 'age_bin_[35-40)',\n",
    "       'age_bin_[40-50)', 'sum_metric', 'tot_score', 'work_fraction',\n",
    "       'start_year', 'better_in_dept_reg']], train2['is_promoted'], test_size=0.3, random_state=1)\n"
   ]
  },
  {
   "cell_type": "code",
   "execution_count": 33,
   "metadata": {},
   "outputs": [
    {
     "name": "stdout",
     "output_type": "stream",
     "text": [
      "0iterations ran\n",
      "5iterations ran\n",
      "10iterations ran\n",
      "15iterations ran\n",
      "({'n_estimators': 500, 'max_features': None, 'criterion': 'entropy', 'max_depth': 8, 'min_impurity_decrease': 0.0}, 0.19303348868776504)\n",
      "Precision on train 0.9278846153846154\n",
      "Recall on train 0.11757538836430094\n",
      "F1 score on train 0.2087050554203839\n",
      "Precision on test: 0.8288770053475936\n",
      "Recall on test: 0.11191335740072202\n",
      "F1 Score on test:  0.19720101781170482\n",
      "[[15026    32]\n",
      " [ 1230   155]]\n"
     ]
    },
    {
     "data": {
      "image/png": "[encoded data removed]",
      "text/plain": [
       "<Figure size 576x576 with 1 Axes>"
      ]
     },
     "metadata": {
      "needs_background": "light"
     },
     "output_type": "display_data"
    }
   ],
   "source": [
    "col_list = [ 'age_bin_>=50', 'age_bin_[20-25)',\n",
    "       'age_bin_[25-30)', 'age_bin_[30-35)', 'age_bin_[35-40)',\n",
    "       'age_bin_[40-50)', 'sum_metric', 'tot_score', 'work_fraction',\n",
    "       'start_year', 'better_in_dept_reg']\n",
    "\n",
    "parameters_rf = {'n_estimators':[100,500,250],'max_features':['sqrt', 'log2',None], 'criterion':['gini', 'entropy'], 'max_depth':[3,4,5,6,7,8,9,10], 'min_impurity_decrease':list(np.arange(0,0.11,.01)) }\n",
    "accuracy_rf2 = randomised_search_cv(RandomForestClassifier,parameters_rf,X_train,col_list,y_train,num_iter=20)\n",
    "modelbuilder(RandomForestClassifier,accuracy_rf2[0],X_train,X_test,col_list,y_train,y_test,test_processed2,\"RF2 with tags,dev,pub\")\n"
   ]
  },
  {
   "cell_type": "code",
   "execution_count": 34,
   "metadata": {},
   "outputs": [
    {
     "name": "stdout",
     "output_type": "stream",
     "text": [
      "Precision on train 0.9228971962616822\n",
      "Recall on train 0.12031678342978983\n",
      "F1 score on train 0.21288062516841819\n",
      "\n",
      "\n",
      "Average probability  0.0854422047275832\n",
      "\n",
      "\n",
      "threshold ->  0.1\n",
      "Precision on Full_data: 0.2114334785008894\n",
      "Recall on Full_data: 0.7384318766066839\n",
      "F1 Score on Full_data:  0.32873968814076576\n",
      "[[37284 12856]\n",
      " [ 1221  3447]]\n",
      "\n",
      "\n",
      "threshold ->  0.15000000000000002\n",
      "Precision on Full_data: 0.31549223462970094\n",
      "Recall on Full_data: 0.5265638389031705\n",
      "F1 Score on Full_data:  0.39457420338710975\n",
      "[[44807  5333]\n",
      " [ 2210  2458]]\n",
      "\n",
      "\n",
      "threshold ->  0.20000000000000004\n",
      "Precision on Full_data: 0.37892095357590966\n",
      "Recall on Full_data: 0.38817480719794345\n",
      "F1 Score on Full_data:  0.3834920634920635\n",
      "[[47170  2970]\n",
      " [ 2856  1812]]\n",
      "\n",
      "\n",
      "threshold ->  0.25000000000000006\n",
      "Precision on Full_data: 0.4106722469264975\n",
      "Recall on Full_data: 0.3363324764353042\n",
      "F1 Score on Full_data:  0.36980332116358494\n",
      "[[47887  2253]\n",
      " [ 3098  1570]]\n",
      "\n",
      "\n",
      "threshold ->  0.30000000000000004\n",
      "Precision on Full_data: 0.5682676740420939\n",
      "Recall on Full_data: 0.22557840616966582\n",
      "F1 Score on Full_data:  0.3229566017481981\n",
      "[[49340   800]\n",
      " [ 3615  1053]]\n",
      "\n",
      "\n",
      "threshold ->  0.3500000000000001\n",
      "Precision on Full_data: 0.8085351787773933\n",
      "Recall on Full_data: 0.1501713796058269\n",
      "F1 Score on Full_data:  0.25329719963866304\n",
      "[[49974   166]\n",
      " [ 3967   701]]\n",
      "\n",
      "\n",
      "threshold ->  0.40000000000000013\n",
      "Precision on Full_data: 0.8466947960618847\n",
      "Recall on Full_data: 0.1289631533847472\n",
      "F1 Score on Full_data:  0.22383342628741398\n",
      "[[50031   109]\n",
      " [ 4066   602]]\n",
      "\n",
      "\n",
      "threshold ->  0.45000000000000007\n",
      "Precision on Full_data: 0.8611521418020679\n",
      "Recall on Full_data: 0.12489288774635818\n",
      "F1 Score on Full_data:  0.21814780168381664\n",
      "[[50046    94]\n",
      " [ 4085   583]]\n",
      "\n",
      "\n",
      "threshold ->  0.08517004816815063\n",
      "Precision on Full_data: 0.17850729775772364\n",
      "Recall on Full_data: 0.830548414738646\n",
      "F1 Score on Full_data:  0.29385682343578273\n",
      "[[32298 17842]\n",
      " [  791  3877]]\n",
      "\n",
      "\n"
     ]
    }
   ],
   "source": [
    "model2_parameters = accuracy_rf2[0]\n",
    "\n",
    "model2_feature_set = [ 'age_bin_>=50', 'age_bin_[20-25)',\n",
    "       'age_bin_[25-30)', 'age_bin_[30-35)', 'age_bin_[35-40)',\n",
    "       'age_bin_[40-50)', 'sum_metric', 'tot_score', 'work_fraction',\n",
    "       'start_year', 'better_in_dept_reg']\n",
    "\n",
    "model2_clf = RandomForestClassifier(**model2_parameters,random_state=42)\n",
    "trained_model2 = model2_clf.fit(X_train[model2_feature_set], y_train)\n",
    "print(\"Precision on train\",precision_score(y_train,model2_clf.predict(X_train[model2_feature_set])) )\n",
    "print(\"Recall on train\",recall_score(y_train,model2_clf.predict(X_train[model2_feature_set])) )\n",
    "print(\"F1 score on train\",f1_score(y_train,model2_clf.predict(X_train[model2_feature_set])) )\n",
    "print(\"\\n\")\n",
    "model2_df = pd.DataFrame()\n",
    "model2_df['employee_id'] = train['employee_id']\n",
    "model2_df['is_promoted'] = train['is_promoted']\n",
    "model2_df['probability'] = [x[1] for x in model2_clf.predict_proba(train3[model2_feature_set])]\n",
    "print(\"Average probability \",model2_df['probability'].mean())\n",
    "print(\"\\n\")\n",
    "\n",
    "\n",
    "for threshold in list(np.arange(0.1,0.5,.05))+[event_rate]:\n",
    "    model2_df['threshold_'+str(threshold)+\"pred\"] = list(map(lambda x: 1 if x>= threshold else 0, model2_df['probability']))\n",
    "    prec_score= precision_score(model2_df['is_promoted'],model2_df['threshold_'+str(threshold)+\"pred\"])\n",
    "    rec_score= recall_score(model2_df['is_promoted'],model2_df['threshold_'+str(threshold)+\"pred\"])\n",
    "    f1 = 2*(prec_score*rec_score)/(prec_score+rec_score)\n",
    "    print(\"threshold -> \", threshold)\n",
    "    print(\"Precision on Full_data:\",prec_score)\n",
    "    print(\"Recall on Full_data:\",rec_score)\n",
    "    print(\"F1 Score on Full_data: \",f1)\n",
    "    print(confusion_matrix(model2_df['is_promoted'], model2_df['threshold_'+str(threshold)+\"pred\"]))\n",
    "    print(\"\\n\")\n",
    "    "
   ]
  },
  {
   "cell_type": "code",
   "execution_count": 35,
   "metadata": {},
   "outputs": [],
   "source": [
    "train3 = train3.rename(columns={'avg_training_score_x':'avg_training_score'}).drop(columns=['avg_training_score_y'])"
   ]
  },
  {
   "cell_type": "code",
   "execution_count": 36,
   "metadata": {},
   "outputs": [],
   "source": [
    "test_processed2 = test_processed2.rename(columns={'avg_training_score_x':'avg_training_score'}).drop(columns=['avg_training_score_y'])"
   ]
  },
  {
   "cell_type": "code",
   "execution_count": 37,
   "metadata": {},
   "outputs": [],
   "source": [
    "list_for_operations = ['no_of_trainings', 'age', 'previous_year_rating',\n",
    "       'length_of_service', 'KPIs_met >80%', 'awards_won?',\n",
    "       'avg_training_score', 'age_bin_>=50', 'age_bin_[20-25)',\n",
    "       'age_bin_[25-30)', 'age_bin_[30-35)', 'age_bin_[35-40)',\n",
    "       'age_bin_[40-50)', 'sum_metric', 'tot_score', 'work_fraction',\n",
    "       'start_year', 'better_in_dept_reg']\n",
    "train4 = train3[list_for_operations].copy()\n",
    "test_processed3 = test_processed2[['employee_id']+list_for_operations].copy()"
   ]
  },
  {
   "cell_type": "code",
   "execution_count": 38,
   "metadata": {},
   "outputs": [],
   "source": [
    "new_col_list = []\n",
    "for col1 in list_for_operations:\n",
    "    for col2 in list_for_operations:\n",
    "        var_name1 = col1+\"_mul_\"+col2\n",
    "        \n",
    "        \n",
    "        train4[var_name1] = list(map(lambda x,y: x*y , train4[col1],train4[col2]))\n",
    "        if train4[var_name1].sum() != 0:\n",
    "            new_col_list += [var_name1]\n",
    "        if col1!= col2:\n",
    "            var_name2 = col1+\"_div_\"+col2\n",
    "            train4[var_name2] = list(map(lambda x,y: x/y if y > 0 else 0 , train4[col1],train4[col2]))\n",
    "            if train4[var_name2].sum() != 0:\n",
    "                new_col_list += [var_name2]\n",
    "        \n",
    "        test_processed3[var_name1] = list(map(lambda x,y: x*y , test_processed3[col1],test_processed3[col2]))\n",
    "        if col1!= col2:\n",
    "            var_name2 = col1+\"_div_\"+col2\n",
    "            test_processed3[var_name2] = list(map(lambda x,y: x/y if y > 0 else 0 , test_processed3[col1],test_processed3[col2]))"
   ]
  },
  {
   "cell_type": "code",
   "execution_count": 39,
   "metadata": {},
   "outputs": [
    {
     "data": {
      "text/plain": [
       "570"
      ]
     },
     "execution_count": 39,
     "metadata": {},
     "output_type": "execute_result"
    }
   ],
   "source": [
    "len(new_col_list)"
   ]
  },
  {
   "cell_type": "code",
   "execution_count": 40,
   "metadata": {},
   "outputs": [],
   "source": [
    "X_train, X_test, y_train, y_test = train_test_split(train4[new_col_list], train['is_promoted'], test_size=0.3, random_state=1)\n"
   ]
  },
  {
   "cell_type": "code",
   "execution_count": 41,
   "metadata": {},
   "outputs": [
    {
     "name": "stdout",
     "output_type": "stream",
     "text": [
      "0iterations ran\n",
      "5iterations ran\n",
      "10iterations ran\n",
      "15iterations ran\n",
      "({'n_estimators': 250, 'max_features': 'log2', 'criterion': 'gini', 'max_depth': 6, 'min_impurity_decrease': 0.0}, 0.24099546858703316)\n",
      "Precision on train 0.9281553398058252\n",
      "Recall on train 0.14559853792263175\n",
      "F1 score on train 0.25171142706687727\n",
      "Precision on test: 0.8898678414096917\n",
      "Recall on test: 0.14584837545126353\n",
      "F1 Score on test:  0.2506203473945409\n",
      "[[15033    25]\n",
      " [ 1183   202]]\n"
     ]
    },
    {
     "data": {
      "image/png": "[encoded data removed]",
      "text/plain": [
       "<Figure size 576x576 with 1 Axes>"
      ]
     },
     "metadata": {
      "needs_background": "light"
     },
     "output_type": "display_data"
    }
   ],
   "source": [
    "col_list = new_col_list.copy()\n",
    "\n",
    "parameters_rf = {'n_estimators':[100,500,250],'max_features':['sqrt', 'log2',None], 'criterion':['gini', 'entropy'], 'max_depth':[3,4,5,6,7,8,9,10], 'min_impurity_decrease':list(np.arange(0,0.11,.01)) }\n",
    "accuracy_rf3 = randomised_search_cv(RandomForestClassifier,parameters_rf,X_train,col_list,y_train,num_iter=20)\n",
    "modelbuilder(RandomForestClassifier,accuracy_rf3[0],X_train,X_test,col_list,y_train,y_test,test_processed3,\"RF3 with tags,dev,pub\")\n"
   ]
  },
  {
   "cell_type": "code",
   "execution_count": 42,
   "metadata": {},
   "outputs": [
    {
     "name": "stdout",
     "output_type": "stream",
     "text": [
      "Precision on train 0.9229323308270677\n",
      "Recall on train 0.14955833079500458\n",
      "F1 score on train 0.25740498034076015\n",
      "\n",
      "\n",
      "Average probability  0.08541980306604097\n",
      "\n",
      "\n",
      "threshold ->  0.1\n",
      "Precision on Full_data: 0.1958842943117841\n",
      "Recall on Full_data: 0.8646101113967438\n",
      "F1 Score on Full_data:  0.31940487496043046\n",
      "[[33572 16568]\n",
      " [  632  4036]]\n",
      "\n",
      "\n",
      "threshold ->  0.15000000000000002\n",
      "Precision on Full_data: 0.2666418049599105\n",
      "Recall on Full_data: 0.6126820908311911\n",
      "F1 Score on Full_data:  0.37157334026243993\n",
      "[[42274  7866]\n",
      " [ 1808  2860]]\n",
      "\n",
      "\n",
      "threshold ->  0.20000000000000004\n",
      "Precision on Full_data: 0.5374432677760969\n",
      "Recall on Full_data: 0.30441302485004285\n",
      "F1 Score on Full_data:  0.3886761487964989\n",
      "[[48917  1223]\n",
      " [ 3247  1421]]\n",
      "\n",
      "\n",
      "threshold ->  0.25000000000000006\n",
      "Precision on Full_data: 0.6263959390862944\n",
      "Recall on Full_data: 0.2643530419880034\n",
      "F1 Score on Full_data:  0.37179873455860196\n",
      "[[49404   736]\n",
      " [ 3434  1234]]\n",
      "\n",
      "\n",
      "threshold ->  0.30000000000000004\n",
      "Precision on Full_data: 0.7235939643347051\n",
      "Recall on Full_data: 0.22600685518423308\n",
      "F1 Score on Full_data:  0.3444335618674502\n",
      "[[49737   403]\n",
      " [ 3613  1055]]\n",
      "\n",
      "\n",
      "threshold ->  0.3500000000000001\n",
      "Precision on Full_data: 0.8143497757847533\n",
      "Recall on Full_data: 0.194515852613539\n",
      "F1 Score on Full_data:  0.3140238630468615\n",
      "[[49933   207]\n",
      " [ 3760   908]]\n",
      "\n",
      "\n",
      "threshold ->  0.40000000000000013\n",
      "Precision on Full_data: 0.8692737430167597\n",
      "Recall on Full_data: 0.16666666666666666\n",
      "F1 Score on Full_data:  0.2797051950386482\n",
      "[[50023   117]\n",
      " [ 3890   778]]\n",
      "\n",
      "\n",
      "threshold ->  0.45000000000000007\n",
      "Precision on Full_data: 0.8984088127294981\n",
      "Recall on Full_data: 0.1572407883461868\n",
      "F1 Score on Full_data:  0.2676390154968095\n",
      "[[50057    83]\n",
      " [ 3934   734]]\n",
      "\n",
      "\n",
      "threshold ->  0.08517004816815063\n",
      "Precision on Full_data: 0.19359444153619187\n",
      "Recall on Full_data: 0.87146529562982\n",
      "F1 Score on Full_data:  0.31681009306491176\n",
      "[[33195 16945]\n",
      " [  600  4068]]\n",
      "\n",
      "\n"
     ]
    }
   ],
   "source": [
    "model3_parameters = accuracy_rf3[0]\n",
    "\n",
    "model3_feature_set = new_col_list.copy()\n",
    "\n",
    "model3_clf = RandomForestClassifier(**model3_parameters,random_state=42)\n",
    "trained_model3 = model3_clf.fit(X_train[model3_feature_set], y_train)\n",
    "print(\"Precision on train\",precision_score(y_train,model3_clf.predict(X_train[model3_feature_set])) )\n",
    "print(\"Recall on train\",recall_score(y_train,model3_clf.predict(X_train[model3_feature_set]))) \n",
    "print(\"F1 score on train\",f1_score(y_train,model3_clf.predict(X_train[model3_feature_set])) )\n",
    "print(\"\\n\")\n",
    "model3_df = pd.DataFrame()\n",
    "model3_df['employee_id'] = train['employee_id']\n",
    "model3_df['is_promoted'] = train['is_promoted']\n",
    "model3_df['probability'] = [x[1] for x in model3_clf.predict_proba(train4[model3_feature_set])]\n",
    "print(\"Average probability \",model3_df['probability'].mean())\n",
    "print(\"\\n\")\n",
    "\n",
    "\n",
    "for threshold in list(np.arange(0.1,0.5,.05))+[event_rate]:\n",
    "    model3_df['threshold_'+str(threshold)+\"pred\"] = list(map(lambda x: 1 if x>= threshold else 0, model3_df['probability']))\n",
    "    prec_score= precision_score(model3_df['is_promoted'],model3_df['threshold_'+str(threshold)+\"pred\"])\n",
    "    rec_score= recall_score(model3_df['is_promoted'],model3_df['threshold_'+str(threshold)+\"pred\"])\n",
    "    f1 = 2*(prec_score*rec_score)/(prec_score+rec_score)\n",
    "    print(\"threshold -> \", threshold)\n",
    "    print(\"Precision on Full_data:\",prec_score)\n",
    "    print(\"Recall on Full_data:\",rec_score)\n",
    "    print(\"F1 Score on Full_data: \",f1)\n",
    "    print(confusion_matrix(model3_df['is_promoted'], model3_df['threshold_'+str(threshold)+\"pred\"]))\n",
    "    print(\"\\n\")\n",
    "    "
   ]
  },
  {
   "cell_type": "code",
   "execution_count": 43,
   "metadata": {},
   "outputs": [],
   "source": [
    "from feature_importance import data_vars, random_forest_feature_imp,vif_calc"
   ]
  },
  {
   "cell_type": "code",
   "execution_count": 44,
   "metadata": {},
   "outputs": [
    {
     "name": "stdout",
     "output_type": "stream",
     "text": [
      "Initial Number of features -> 59\n",
      "Fit done\n",
      "Final Number of features -> 29\n"
     ]
    },
    {
     "data": {
      "text/plain": [
       "29"
      ]
     },
     "execution_count": 44,
     "metadata": {},
     "output_type": "execute_result"
    }
   ],
   "source": [
    "woe_1,iv_1 = data_vars(train2[model1_feature_set],train['is_promoted'])\n",
    "list_1_iv = list(iv_1[iv_1[\"IV\"]>=0.02]['VAR_NAME'])\n",
    "\n",
    "list_1_rf = random_forest_feature_imp(train2,model1_feature_set,train['is_promoted'],percentile=0.99)\n",
    "\n",
    "list1_model = list(set(list_1_iv+list_1_rf))\n",
    "len(list1_model)"
   ]
  },
  {
   "cell_type": "code",
   "execution_count": 45,
   "metadata": {},
   "outputs": [
    {
     "name": "stdout",
     "output_type": "stream",
     "text": [
      "Initial Number of features -> 11\n",
      "Fit done\n",
      "Final Number of features -> 4\n"
     ]
    },
    {
     "data": {
      "text/plain": [
       "4"
      ]
     },
     "execution_count": 45,
     "metadata": {},
     "output_type": "execute_result"
    }
   ],
   "source": [
    "woe_2,iv_2 = data_vars(train3[model2_feature_set],train['is_promoted'])\n",
    "list_2_iv = list(iv_2[iv_2[\"IV\"]>=0.02]['VAR_NAME'])\n",
    "\n",
    "list_2_rf = random_forest_feature_imp(train3,model2_feature_set,train['is_promoted'],percentile=0.99)\n",
    "\n",
    "list2_model = list(set(list_2_iv+list_2_rf))\n",
    "len(list2_model)"
   ]
  },
  {
   "cell_type": "code",
   "execution_count": 46,
   "metadata": {},
   "outputs": [
    {
     "name": "stdout",
     "output_type": "stream",
     "text": [
      "Initial Number of features -> 570\n",
      "Fit done\n",
      "Final Number of features -> 256\n"
     ]
    },
    {
     "data": {
      "text/plain": [
       "328"
      ]
     },
     "execution_count": 46,
     "metadata": {},
     "output_type": "execute_result"
    }
   ],
   "source": [
    "woe_3,iv_3 = data_vars(train4[model3_feature_set],train['is_promoted'])\n",
    "list_3_iv = list(iv_3[iv_3[\"IV\"]>=0.02]['VAR_NAME'])\n",
    "\n",
    "list_3_rf = random_forest_feature_imp(train4,model3_feature_set,train['is_promoted'],percentile=0.99)\n",
    "\n",
    "list3_model = list(set(list_3_iv+list_3_rf))\n",
    "len(list3_model)"
   ]
  },
  {
   "cell_type": "code",
   "execution_count": 47,
   "metadata": {},
   "outputs": [],
   "source": [
    "tpot_full_data = pd.DataFrame()\n",
    "tpot_full_data['employee_id'] = train['employee_id']\n",
    "tpot_full_data['is_promoted'] = train['is_promoted']\n",
    "\n",
    "tpot_full_data = pd.merge(tpot_full_data,train2[['employee_id']+list1_model],how='left',on='employee_id')\n",
    "tpot_full_data = pd.merge(tpot_full_data,train3[['employee_id']+list2_model],how='left',on='employee_id')\n",
    "tpot_full_data = pd.merge(tpot_full_data,train4[list3_model],how='left',left_index=True,right_index=True)"
   ]
  },
  {
   "cell_type": "code",
   "execution_count": 51,
   "metadata": {},
   "outputs": [],
   "source": [
    "tpot_full_data_test = pd.DataFrame()\n",
    "tpot_full_data_test['employee_id'] = test['employee_id']\n",
    "# tpot_full_data['is_promoted'] = train['is_promoted']\n",
    "\n",
    "tpot_full_data_test = pd.merge(tpot_full_data_test,test_processed[['employee_id']+list1_model],how='left',on='employee_id')\n",
    "tpot_full_data_test = pd.merge(tpot_full_data_test,test_processed2[['employee_id']+list2_model],how='left',on='employee_id')\n",
    "tpot_full_data_test = pd.merge(tpot_full_data_test,test_processed3[list3_model],how='left',left_index=True,right_index=True)"
   ]
  },
  {
   "cell_type": "code",
   "execution_count": 48,
   "metadata": {},
   "outputs": [],
   "source": [
    "X_train, X_test, y_train, y_test = train_test_split(tpot_full_data, tpot_full_data['is_promoted'], test_size=0.3, random_state=1)"
   ]
  },
  {
   "cell_type": "code",
   "execution_count": 49,
   "metadata": {},
   "outputs": [
    {
     "data": {
      "text/plain": [
       "(361, 361)"
      ]
     },
     "execution_count": 49,
     "metadata": {},
     "output_type": "execute_result"
    }
   ],
   "source": [
    "len(list1_model+list2_model+list3_model),len(list(set(list1_model+list2_model+list3_model)))"
   ]
  },
  {
   "cell_type": "code",
   "execution_count": 50,
   "metadata": {},
   "outputs": [
    {
     "data": {
      "text/plain": [
       "361"
      ]
     },
     "execution_count": 50,
     "metadata": {},
     "output_type": "execute_result"
    }
   ],
   "source": [
    "feature_set_tpot = list(set(list1_model+list2_model+list3_model))\n",
    "len(feature_set_tpot)"
   ]
  },
  {
   "cell_type": "code",
   "execution_count": 52,
   "metadata": {},
   "outputs": [
    {
     "name": "stdout",
     "output_type": "stream",
     "text": [
      "0iterations ran\n",
      "5iterations ran\n",
      "10iterations ran\n",
      "15iterations ran\n",
      "({'n_estimators': 100, 'max_features': None, 'criterion': 'gini', 'max_depth': 6, 'min_impurity_decrease': 0.0}, 0.39546039499288116)\n",
      "Precision on train 0.9184726522187823\n",
      "Recall on train 0.27109351203167836\n",
      "F1 score on train 0.4186265286923801\n",
      "Precision on test: 0.9015151515151515\n",
      "Recall on test: 0.25776173285198556\n",
      "F1 Score on test:  0.4008983717012914\n",
      "[[15019    39]\n",
      " [ 1028   357]]\n"
     ]
    },
    {
     "data": {
      "image/png": "[encoded data removed]",
      "text/plain": [
       "<Figure size 576x576 with 1 Axes>"
      ]
     },
     "metadata": {
      "needs_background": "light"
     },
     "output_type": "display_data"
    }
   ],
   "source": [
    "col_list = feature_set_tpot.copy()\n",
    "\n",
    "parameters_rf = {'n_estimators':[100,500,250],'max_features':['sqrt', 'log2',None], 'criterion':['gini', 'entropy'], 'max_depth':[3,4,5,6,7,8,9,10], 'min_impurity_decrease':list(np.arange(0,0.11,.01)) }\n",
    "accuracy_rf4 = randomised_search_cv(RandomForestClassifier,parameters_rf,X_train,col_list,y_train,num_iter=20)\n",
    "modelbuilder(RandomForestClassifier,accuracy_rf4[0],X_train,X_test,col_list,y_train,y_test,tpot_full_data_test,\"RF4 with tags,dev,pub\")\n"
   ]
  },
  {
   "cell_type": "code",
   "execution_count": 54,
   "metadata": {},
   "outputs": [
    {
     "name": "stdout",
     "output_type": "stream",
     "text": [
      "Precision on train 0.9167523124357657\n",
      "Recall on train 0.27170271093512033\n",
      "F1 score on train 0.4191729323308271\n",
      "\n",
      "\n",
      "Average probability  0.08541729336646797\n",
      "\n",
      "\n",
      "threshold ->  0.1\n",
      "Precision on Full_data: 0.20770020032247033\n",
      "Recall on Full_data: 0.9106683804627249\n",
      "F1 Score on Full_data:  0.33825343147006165\n",
      "[[33924 16216]\n",
      " [  417  4251]]\n",
      "\n",
      "\n",
      "threshold ->  0.15000000000000002\n",
      "Precision on Full_data: 0.2731535756154748\n",
      "Recall on Full_data: 0.6988003427592117\n",
      "F1 Score on Full_data:  0.3927754364840458\n",
      "[[41460  8680]\n",
      " [ 1406  3262]]\n",
      "\n",
      "\n",
      "threshold ->  0.20000000000000004\n",
      "Precision on Full_data: 0.6870324189526185\n",
      "Recall on Full_data: 0.35411311053984573\n",
      "F1 Score on Full_data:  0.46734520780322303\n",
      "[[49387   753]\n",
      " [ 3015  1653]]\n",
      "\n",
      "\n",
      "threshold ->  0.25000000000000006\n",
      "Precision on Full_data: 0.7914466737064414\n",
      "Recall on Full_data: 0.32112253641816624\n",
      "F1 Score on Full_data:  0.45687290460225544\n",
      "[[49745   395]\n",
      " [ 3169  1499]]\n",
      "\n",
      "\n",
      "threshold ->  0.30000000000000004\n",
      "Precision on Full_data: 0.8502122498483929\n",
      "Recall on Full_data: 0.3003427592116538\n",
      "F1 Score on Full_data:  0.443881589362039\n",
      "[[49893   247]\n",
      " [ 3266  1402]]\n",
      "\n",
      "\n",
      "threshold ->  0.3500000000000001\n",
      "Precision on Full_data: 0.8756613756613757\n",
      "Recall on Full_data: 0.28363324764353043\n",
      "F1 Score on Full_data:  0.4284789644012945\n",
      "[[49952   188]\n",
      " [ 3344  1324]]\n",
      "\n",
      "\n",
      "threshold ->  0.40000000000000013\n",
      "Precision on Full_data: 0.8942307692307693\n",
      "Recall on Full_data: 0.27892030848329047\n",
      "F1 Score on Full_data:  0.42521227955584584\n",
      "[[49986   154]\n",
      " [ 3366  1302]]\n",
      "\n",
      "\n",
      "threshold ->  0.45000000000000007\n",
      "Precision on Full_data: 0.9043909348441926\n",
      "Recall on Full_data: 0.27356469580119963\n",
      "F1 Score on Full_data:  0.4200657894736842\n",
      "[[50005   135]\n",
      " [ 3391  1277]]\n",
      "\n",
      "\n",
      "threshold ->  0.08517004816815063\n",
      "Precision on Full_data: 0.20563719585642015\n",
      "Recall on Full_data: 0.9143101970865467\n",
      "F1 Score on Full_data:  0.3357589584234748\n",
      "[[33653 16487]\n",
      " [  400  4268]]\n",
      "\n",
      "\n"
     ]
    }
   ],
   "source": [
    "model4_parameters = accuracy_rf4[0]\n",
    "\n",
    "model4_feature_set = feature_set_tpot.copy()\n",
    "\n",
    "model4_clf = RandomForestClassifier(**model4_parameters,random_state=42)\n",
    "trained_model4 = model4_clf.fit(X_train[model4_feature_set], y_train)\n",
    "print(\"Precision on train\",precision_score(y_train,model4_clf.predict(X_train[model4_feature_set])))\n",
    "print(\"Recall on train\",recall_score(y_train,model4_clf.predict(X_train[model4_feature_set])))\n",
    "print(\"F1 score on train\",f1_score(y_train,model4_clf.predict(X_train[model4_feature_set])))\n",
    "print(\"\\n\")\n",
    "model4_df = pd.DataFrame()\n",
    "model4_df['employee_id'] = train['employee_id']\n",
    "model4_df['is_promoted'] = train['is_promoted']\n",
    "model4_df['probability'] = [x[1] for x in model4_clf.predict_proba(tpot_full_data[model4_feature_set])]\n",
    "print(\"Average probability \",model4_df['probability'].mean())\n",
    "print(\"\\n\")\n",
    "\n",
    "\n",
    "for threshold in list(np.arange(0.1,0.5,.05))+[event_rate]:\n",
    "    model4_df['threshold_'+str(threshold)+\"pred\"] = list(map(lambda x: 1 if x>= threshold else 0, model4_df['probability']))\n",
    "    prec_score= precision_score(model4_df['is_promoted'],model4_df['threshold_'+str(threshold)+\"pred\"])\n",
    "    rec_score= recall_score(model4_df['is_promoted'],model4_df['threshold_'+str(threshold)+\"pred\"])\n",
    "    f1 = 2*(prec_score*rec_score)/(prec_score+rec_score)\n",
    "    print(\"threshold -> \", threshold)\n",
    "    print(\"Precision on Full_data:\",prec_score)\n",
    "    print(\"Recall on Full_data:\",rec_score)\n",
    "    print(\"F1 Score on Full_data: \",f1)\n",
    "    print(confusion_matrix(model4_df['is_promoted'], model4_df['threshold_'+str(threshold)+\"pred\"]))\n",
    "    print(\"\\n\")\n",
    "    "
   ]
  },
  {
   "cell_type": "markdown",
   "metadata": {},
   "source": [
    "<ol> <li> Model - 1 :- Old Features + RF</li>\n",
    "    <li> Model - 2 :- New Features set 1+ RF </li>\n",
    "    <li> Model - 3 :- New Features set (cont divided * multiplied) + RF </li>\n",
    "    <li> Model - 4 :- IV sel, rf feat, RF </li>\n",
    "    </ol>\n",
    "<ul> <li> Ensembling predictions 0.5 normalized from f1 score </li>\n",
    "    <li> ensembling add f1 weighted probabilities and cutoff analysis </li>\n",
    "    <li> Ensemble of best predictions weighted then event_Rate </li>"
   ]
  },
  {
   "cell_type": "code",
   "execution_count": 147,
   "metadata": {},
   "outputs": [
    {
     "name": "stdout",
     "output_type": "stream",
     "text": [
      "0.2986354950764865 0.22128684098087148 0.21797906805226844 0.2620985958903736\n"
     ]
    }
   ],
   "source": [
    "m1_f1 = 0.5324937626232624\n",
    "m2_f1 = 0.39457420338710975\n",
    "m3_f1 = 0.3886761487964989\n",
    "m4_f1 = 0.46734520780322303\n",
    "\n",
    "threshold1 = 0.20000000000000004\n",
    "threshold2 = 0.15000000000000002\n",
    "threshold3 = 0.20000000000000004\n",
    "threshold4 = 0.20000000000000004\n",
    "\n",
    "w1,w2,w3,w4 = m1_f1/(m1_f1+m2_f1+m3_f1+m4_f1),m2_f1/(m1_f1+m2_f1+m3_f1+m4_f1),m3_f1/(m1_f1+m2_f1+m3_f1+m4_f1),m4_f1/(m1_f1+m2_f1+m3_f1+m4_f1)\n",
    "print(w1,w2,w3,w4)\n",
    "\n",
    "# sum_exp =np.exp(m1_f1)+np.exp(m2_f1)+np.exp(m3_f1)+np.exp(m4_f1)\n",
    "# w1,w2,w3,w4 = np.exp(m1_f1)/sum_exp, np.exp(m2_f1)/sum_exp,np.exp(m3_f1)/sum_exp,np.exp(m4_f1)/sum_exp\n",
    "\n",
    "\n",
    "# print(w1,w2,w3,w4)"
   ]
  },
  {
   "cell_type": "code",
   "execution_count": 73,
   "metadata": {},
   "outputs": [],
   "source": [
    "final_analysis_train = pd.DataFrame()\n",
    "final_analysis_train['employee_id'] = train['employee_id']\n",
    "final_analysis_train['is_promoted'] = train['is_promoted']\n",
    "final_analysis_train['p1'] = model1_df['probability']\n",
    "final_analysis_train['p2'] = model2_df['probability']\n",
    "final_analysis_train['p3'] = model3_df['probability']\n",
    "final_analysis_train['p4'] = model4_df['probability']\n",
    "final_analysis_train['pred1'] = model1_df['threshold_'+str(threshold1)+\"pred\"]\n",
    "final_analysis_train['pred2'] = model2_df['threshold_'+str(threshold2)+\"pred\"]\n",
    "final_analysis_train['pred3'] = model3_df['threshold_'+str(threshold3)+\"pred\"]\n",
    "final_analysis_train['pred4'] = model4_df['threshold_'+str(threshold4)+\"pred\"]\n",
    "\n",
    "final_analysis_train['weighted_p_v1'] = w1*final_analysis_train['p1'] + w2*final_analysis_train['p2'] + w3*final_analysis_train['p3'] + w4*final_analysis_train['p4']\n",
    "final_analysis_train['weighted_pred'] = w1*final_analysis_train['pred1'] + w2*final_analysis_train['pred2'] + w3*final_analysis_train['pred3'] + w4*final_analysis_train['pred4']\n",
    "final_analysis_train['weighted_p_v2'] = list(map(lambda x: 1 if x > 1 else x , final_analysis_train['weighted_pred']))\n",
    "\n",
    "\n"
   ]
  },
  {
   "cell_type": "code",
   "execution_count": 74,
   "metadata": {},
   "outputs": [],
   "source": [
    "def calculating_scores(col):\n",
    "    for threshold in list(np.arange(0.1,0.5,.05))+[event_rate]:\n",
    "        final_analysis_train['threshold_'+str(threshold)+\"pred\"] = list(map(lambda x: 1 if x>= threshold else 0, final_analysis_train[col]))\n",
    "        prec_score= precision_score(final_analysis_train['is_promoted'],final_analysis_train['threshold_'+str(threshold)+\"pred\"])\n",
    "        rec_score= recall_score(final_analysis_train['is_promoted'],final_analysis_train['threshold_'+str(threshold)+\"pred\"])\n",
    "        f1 = 2*(prec_score*rec_score)/(prec_score+rec_score)\n",
    "        print(\"threshold -> \", threshold)\n",
    "        print(\"Precision on Full_data:\",prec_score)\n",
    "        print(\"Recall on Full_data:\",rec_score)\n",
    "        print(\"F1 Score on Full_data: \",f1)\n",
    "        print(confusion_matrix(final_analysis_train['is_promoted'], final_analysis_train['threshold_'+str(threshold)+\"pred\"]))\n",
    "        print(\"\\n\")"
   ]
  },
  {
   "cell_type": "code",
   "execution_count": 75,
   "metadata": {},
   "outputs": [
    {
     "name": "stdout",
     "output_type": "stream",
     "text": [
      "threshold ->  0.1\n",
      "Precision on Full_data: 0.21306142267540665\n",
      "Recall on Full_data: 0.9400171379605827\n",
      "F1 Score on Full_data:  0.3473855044927364\n",
      "[[33933 16207]\n",
      " [  280  4388]]\n",
      "\n",
      "\n",
      "threshold ->  0.15000000000000002\n",
      "Precision on Full_data: 0.3369668748015663\n",
      "Recall on Full_data: 0.6820908311910883\n",
      "F1 Score on Full_data:  0.45108734150315216\n",
      "[[43875  6265]\n",
      " [ 1484  3184]]\n",
      "\n",
      "\n",
      "threshold ->  0.20000000000000004\n",
      "Precision on Full_data: 0.5789473684210527\n",
      "Recall on Full_data: 0.4453727506426735\n",
      "F1 Score on Full_data:  0.5034507809662188\n",
      "[[48628  1512]\n",
      " [ 2589  2079]]\n",
      "\n",
      "\n",
      "threshold ->  0.25000000000000006\n",
      "Precision on Full_data: 0.8086696562032885\n",
      "Recall on Full_data: 0.3476863753213368\n",
      "F1 Score on Full_data:  0.48629213483146067\n",
      "[[49756   384]\n",
      " [ 3045  1623]]\n",
      "\n",
      "\n",
      "threshold ->  0.30000000000000004\n",
      "Precision on Full_data: 0.8700854700854701\n",
      "Recall on Full_data: 0.32712082262210795\n",
      "F1 Score on Full_data:  0.47547874824848196\n",
      "[[49912   228]\n",
      " [ 3141  1527]]\n",
      "\n",
      "\n",
      "threshold ->  0.3500000000000001\n",
      "Precision on Full_data: 0.9003154574132493\n",
      "Recall on Full_data: 0.30569837189374466\n",
      "F1 Score on Full_data:  0.4564209179593795\n",
      "[[49982   158]\n",
      " [ 3241  1427]]\n",
      "\n",
      "\n",
      "threshold ->  0.40000000000000013\n",
      "Precision on Full_data: 0.9440459110473458\n",
      "Recall on Full_data: 0.2819194515852613\n",
      "F1 Score on Full_data:  0.4341801385681293\n",
      "[[50062    78]\n",
      " [ 3352  1316]]\n",
      "\n",
      "\n",
      "threshold ->  0.45000000000000007\n",
      "Precision on Full_data: 0.9659810126582279\n",
      "Recall on Full_data: 0.2615681233933162\n",
      "F1 Score on Full_data:  0.4116655428186109\n",
      "[[50097    43]\n",
      " [ 3447  1221]]\n",
      "\n",
      "\n",
      "threshold ->  0.08517004816815063\n",
      "Precision on Full_data: 0.21034318398474738\n",
      "Recall on Full_data: 0.9453727506426736\n",
      "F1 Score on Full_data:  0.34412039925140364\n",
      "[[33573 16567]\n",
      " [  255  4413]]\n",
      "\n",
      "\n"
     ]
    }
   ],
   "source": [
    "calculating_scores('weighted_p_v1')"
   ]
  },
  {
   "cell_type": "code",
   "execution_count": 76,
   "metadata": {},
   "outputs": [
    {
     "name": "stdout",
     "output_type": "stream",
     "text": [
      "threshold ->  0.1\n",
      "Precision on Full_data: 0.33347457627118643\n",
      "Recall on Full_data: 0.6743787489288775\n",
      "F1 Score on Full_data:  0.44627161893960876\n",
      "[[43848  6292]\n",
      " [ 1520  3148]]\n",
      "\n",
      "\n",
      "threshold ->  0.15000000000000002\n",
      "Precision on Full_data: 0.33347457627118643\n",
      "Recall on Full_data: 0.6743787489288775\n",
      "F1 Score on Full_data:  0.44627161893960876\n",
      "[[43848  6292]\n",
      " [ 1520  3148]]\n",
      "\n",
      "\n",
      "threshold ->  0.20000000000000004\n",
      "Precision on Full_data: 0.33347457627118643\n",
      "Recall on Full_data: 0.6743787489288775\n",
      "F1 Score on Full_data:  0.44627161893960876\n",
      "[[43848  6292]\n",
      " [ 1520  3148]]\n",
      "\n",
      "\n",
      "threshold ->  0.25000000000000006\n",
      "Precision on Full_data: 0.525679068705775\n",
      "Recall on Full_data: 0.49335904027420735\n",
      "F1 Score on Full_data:  0.5090065200574649\n",
      "[[48062  2078]\n",
      " [ 2365  2303]]\n",
      "\n",
      "\n",
      "threshold ->  0.30000000000000004\n",
      "Precision on Full_data: 0.5670073821692221\n",
      "Recall on Full_data: 0.4278063410454156\n",
      "F1 Score on Full_data:  0.48766788766788766\n",
      "[[48615  1525]\n",
      " [ 2671  1997]]\n",
      "\n",
      "\n",
      "threshold ->  0.3500000000000001\n",
      "Precision on Full_data: 0.5670073821692221\n",
      "Recall on Full_data: 0.4278063410454156\n",
      "F1 Score on Full_data:  0.48766788766788766\n",
      "[[48615  1525]\n",
      " [ 2671  1997]]\n",
      "\n",
      "\n",
      "threshold ->  0.40000000000000013\n",
      "Precision on Full_data: 0.5670073821692221\n",
      "Recall on Full_data: 0.4278063410454156\n",
      "F1 Score on Full_data:  0.48766788766788766\n",
      "[[48615  1525]\n",
      " [ 2671  1997]]\n",
      "\n",
      "\n",
      "threshold ->  0.45000000000000007\n",
      "Precision on Full_data: 0.6326991293131248\n",
      "Recall on Full_data: 0.4203084832904884\n",
      "F1 Score on Full_data:  0.5050843094349338\n",
      "[[49001  1139]\n",
      " [ 2706  1962]]\n",
      "\n",
      "\n",
      "threshold ->  0.08517004816815063\n",
      "Precision on Full_data: 0.33347457627118643\n",
      "Recall on Full_data: 0.6743787489288775\n",
      "F1 Score on Full_data:  0.44627161893960876\n",
      "[[43848  6292]\n",
      " [ 1520  3148]]\n",
      "\n",
      "\n"
     ]
    }
   ],
   "source": [
    "calculating_scores('weighted_p_v2')"
   ]
  },
  {
   "cell_type": "code",
   "execution_count": 65,
   "metadata": {},
   "outputs": [],
   "source": [
    "final_analysis_train['random'] = list(map(lambda a,b,c,d: 1 if (a+b+c+d)>1 else 0, final_analysis_train['pred1'],final_analysis_train['pred2'],final_analysis_train['pred3'],final_analysis_train['pred4']))"
   ]
  },
  {
   "cell_type": "code",
   "execution_count": 66,
   "metadata": {},
   "outputs": [
    {
     "name": "stdout",
     "output_type": "stream",
     "text": [
      "threshold ->  0.08517004816815063\n",
      "Precision on Full_data: 0.5670073821692221\n",
      "Recall on Full_data: 0.4278063410454156\n",
      "F1 Score on Full_data:  0.48766788766788766\n",
      "[[48615  1525]\n",
      " [ 2671  1997]]\n",
      "\n",
      "\n"
     ]
    }
   ],
   "source": [
    "prec_score= precision_score(final_analysis_train['is_promoted'],final_analysis_train['random'])\n",
    "rec_score= recall_score(final_analysis_train['is_promoted'],final_analysis_train['random'])\n",
    "f1 = 2*(prec_score*rec_score)/(prec_score+rec_score)\n",
    "print(\"threshold -> \", threshold)\n",
    "print(\"Precision on Full_data:\",prec_score)\n",
    "print(\"Recall on Full_data:\",rec_score)\n",
    "print(\"F1 Score on Full_data: \",f1)\n",
    "print(confusion_matrix(final_analysis_train['is_promoted'],final_analysis_train['random']))\n",
    "print(\"\\n\")"
   ]
  },
  {
   "cell_type": "code",
   "execution_count": 129,
   "metadata": {},
   "outputs": [],
   "source": [
    "woe_final,iv_final = data_vars(tpot_full_data[model4_feature_set],final_analysis_train['is_promoted'])"
   ]
  },
  {
   "cell_type": "code",
   "execution_count": 130,
   "metadata": {},
   "outputs": [
    {
     "data": {
      "text/html": [
       "<div>\n",
       "<style scoped>\n",
       "    .dataframe tbody tr th:only-of-type {\n",
       "        vertical-align: middle;\n",
       "    }\n",
       "\n",
       "    .dataframe tbody tr th {\n",
       "        vertical-align: top;\n",
       "    }\n",
       "\n",
       "    .dataframe thead th {\n",
       "        text-align: right;\n",
       "    }\n",
       "</style>\n",
       "<table border=\"1\" class=\"dataframe\">\n",
       "  <thead>\n",
       "    <tr style=\"text-align: right;\">\n",
       "      <th></th>\n",
       "      <th>VAR_NAME</th>\n",
       "      <th>IV</th>\n",
       "    </tr>\n",
       "  </thead>\n",
       "  <tbody>\n",
       "    <tr>\n",
       "      <th>110</th>\n",
       "      <td>avg_training_score_mul_sum_metric</td>\n",
       "      <td>7.937456</td>\n",
       "    </tr>\n",
       "    <tr>\n",
       "      <th>306</th>\n",
       "      <td>sum_metric_mul_avg_training_score</td>\n",
       "      <td>7.937456</td>\n",
       "    </tr>\n",
       "    <tr>\n",
       "      <th>299</th>\n",
       "      <td>sum_metric_div_start_year</td>\n",
       "      <td>6.498551</td>\n",
       "    </tr>\n",
       "    <tr>\n",
       "      <th>71</th>\n",
       "      <td>age_div_sum_metric</td>\n",
       "      <td>6.191344</td>\n",
       "    </tr>\n",
       "    <tr>\n",
       "      <th>290</th>\n",
       "      <td>sum_metric_div_age</td>\n",
       "      <td>6.083859</td>\n",
       "    </tr>\n",
       "    <tr>\n",
       "      <th>312</th>\n",
       "      <td>sum_metric_mul_start_year</td>\n",
       "      <td>5.716122</td>\n",
       "    </tr>\n",
       "    <tr>\n",
       "      <th>285</th>\n",
       "      <td>start_year_mul_sum_metric</td>\n",
       "      <td>5.716122</td>\n",
       "    </tr>\n",
       "    <tr>\n",
       "      <th>337</th>\n",
       "      <td>tot_score_mul_sum_metric</td>\n",
       "      <td>5.596956</td>\n",
       "    </tr>\n",
       "    <tr>\n",
       "      <th>314</th>\n",
       "      <td>sum_metric_mul_tot_score</td>\n",
       "      <td>5.596956</td>\n",
       "    </tr>\n",
       "    <tr>\n",
       "      <th>275</th>\n",
       "      <td>start_year_div_sum_metric</td>\n",
       "      <td>5.543810</td>\n",
       "    </tr>\n",
       "    <tr>\n",
       "      <th>303</th>\n",
       "      <td>sum_metric_mul_age</td>\n",
       "      <td>5.265418</td>\n",
       "    </tr>\n",
       "    <tr>\n",
       "      <th>80</th>\n",
       "      <td>age_mul_sum_metric</td>\n",
       "      <td>5.265418</td>\n",
       "    </tr>\n",
       "    <tr>\n",
       "      <th>108</th>\n",
       "      <td>avg_training_score_mul_previous_year_rating</td>\n",
       "      <td>4.967908</td>\n",
       "    </tr>\n",
       "    <tr>\n",
       "      <th>247</th>\n",
       "      <td>previous_year_rating_mul_avg_training_score</td>\n",
       "      <td>4.967908</td>\n",
       "    </tr>\n",
       "    <tr>\n",
       "      <th>313</th>\n",
       "      <td>sum_metric_mul_sum_metric</td>\n",
       "      <td>2.798052</td>\n",
       "    </tr>\n",
       "    <tr>\n",
       "      <th>288</th>\n",
       "      <td>sum_metric</td>\n",
       "      <td>2.798052</td>\n",
       "    </tr>\n",
       "    <tr>\n",
       "      <th>335</th>\n",
       "      <td>tot_score_mul_previous_year_rating</td>\n",
       "      <td>2.782040</td>\n",
       "    </tr>\n",
       "    <tr>\n",
       "      <th>255</th>\n",
       "      <td>previous_year_rating_mul_tot_score</td>\n",
       "      <td>2.782040</td>\n",
       "    </tr>\n",
       "    <tr>\n",
       "      <th>239</th>\n",
       "      <td>previous_year_rating_div_start_year</td>\n",
       "      <td>2.648991</td>\n",
       "    </tr>\n",
       "    <tr>\n",
       "      <th>244</th>\n",
       "      <td>previous_year_rating_mul_age</td>\n",
       "      <td>2.494992</td>\n",
       "    </tr>\n",
       "  </tbody>\n",
       "</table>\n",
       "</div>"
      ],
      "text/plain": [
       "                                        VAR_NAME        IV\n",
       "110            avg_training_score_mul_sum_metric  7.937456\n",
       "306            sum_metric_mul_avg_training_score  7.937456\n",
       "299                    sum_metric_div_start_year  6.498551\n",
       "71                            age_div_sum_metric  6.191344\n",
       "290                           sum_metric_div_age  6.083859\n",
       "312                    sum_metric_mul_start_year  5.716122\n",
       "285                    start_year_mul_sum_metric  5.716122\n",
       "337                     tot_score_mul_sum_metric  5.596956\n",
       "314                     sum_metric_mul_tot_score  5.596956\n",
       "275                    start_year_div_sum_metric  5.543810\n",
       "303                           sum_metric_mul_age  5.265418\n",
       "80                            age_mul_sum_metric  5.265418\n",
       "108  avg_training_score_mul_previous_year_rating  4.967908\n",
       "247  previous_year_rating_mul_avg_training_score  4.967908\n",
       "313                    sum_metric_mul_sum_metric  2.798052\n",
       "288                                   sum_metric  2.798052\n",
       "335           tot_score_mul_previous_year_rating  2.782040\n",
       "255           previous_year_rating_mul_tot_score  2.782040\n",
       "239          previous_year_rating_div_start_year  2.648991\n",
       "244                 previous_year_rating_mul_age  2.494992"
      ]
     },
     "execution_count": 130,
     "metadata": {},
     "output_type": "execute_result"
    }
   ],
   "source": [
    "iv_final[iv_final['IV']>=0.02].head(20)"
   ]
  },
  {
   "cell_type": "code",
   "execution_count": 133,
   "metadata": {},
   "outputs": [
    {
     "data": {
      "text/plain": [
       "<matplotlib.axes._subplots.AxesSubplot at 0x7f3a29083588>"
      ]
     },
     "execution_count": 133,
     "metadata": {},
     "output_type": "execute_result"
    },
    {
     "data": {
      "image/png": "[encoded data removed]",
      "text/plain": [
       "<Figure size 432x288 with 1 Axes>"
      ]
     },
     "metadata": {
      "needs_background": "light"
     },
     "output_type": "display_data"
    }
   ],
   "source": [
    "data_iv = pd.Series(iv_final[iv_final['IV']>=0.02]['IV'].values,index=iv_final[iv_final['IV']>=0.02]['VAR_NAME'].values)\n",
    "\n",
    "data_iv.nlargest(30).plot(kind='bar',color=['blue', 'orange', 'green', 'red'])"
   ]
  },
  {
   "cell_type": "code",
   "execution_count": 134,
   "metadata": {},
   "outputs": [
    {
     "data": {
      "text/plain": [
       "<matplotlib.axes._subplots.AxesSubplot at 0x7f3a29054f60>"
      ]
     },
     "execution_count": 134,
     "metadata": {},
     "output_type": "execute_result"
    },
    {
     "data": {
      "image/png": "[encoded data removed]",
      "text/plain": [
       "<Figure size 432x288 with 1 Axes>"
      ]
     },
     "metadata": {
      "needs_background": "light"
     },
     "output_type": "display_data"
    }
   ],
   "source": [
    "feat_importances = pd.Series(model4_clf.feature_importances_, index=model4_feature_set)\n",
    "feat_importances.nlargest(30).plot(kind='bar',color=['blue', 'orange', 'green', 'red'])"
   ]
  },
  {
   "cell_type": "markdown",
   "metadata": {},
   "source": [
    "### Final Predictions on Test Data and Submission"
   ]
  },
  {
   "cell_type": "markdown",
   "metadata": {},
   "source": [
    "I have choosen four models for final submission:<br>\n",
    "<ol><li> Model 1 with 0.2 threshold </li>\n",
    "    <li> Weighted ensemble probability at 0.2 threshold </li>\n",
    "    <li> Weighted Predictions at 0.25 threshold </li>\n",
    "    <li> Voting from all 4 models </li>\n",
    "</ol>"
   ]
  },
  {
   "cell_type": "code",
   "execution_count": 148,
   "metadata": {},
   "outputs": [],
   "source": [
    "final_analysis_test = pd.DataFrame()\n",
    "final_analysis_test['employee_id'] = test['employee_id']\n",
    "# final_analysis_test['is_promoted'] = test['is_promoted']\n",
    "final_analysis_test['p1'] = [x[1] for x in model1_clf.predict_proba(test_processed[model1_feature_set])]\n",
    "final_analysis_test['p2'] = [x[1] for x in model2_clf.predict_proba(test_processed2[model2_feature_set])]\n",
    "final_analysis_test['p3'] = [x[1] for x in model3_clf.predict_proba(test_processed3[model3_feature_set])]\n",
    "final_analysis_test['p4'] = [x[1] for x in model4_clf.predict_proba(tpot_full_data_test[model4_feature_set])]\n",
    "final_analysis_test['pred1'] = model1_df['threshold_'+str(threshold1)+\"pred\"]\n",
    "final_analysis_test['pred2'] = model2_df['threshold_'+str(threshold2)+\"pred\"]\n",
    "final_analysis_test['pred3'] = model3_df['threshold_'+str(threshold3)+\"pred\"]\n",
    "final_analysis_test['pred4'] = model4_df['threshold_'+str(threshold4)+\"pred\"]\n",
    "\n",
    "final_analysis_test['weighted_p_v1'] = w1*final_analysis_test['p1'] + w2*final_analysis_test['p2'] + w3*final_analysis_test['p3'] + w4*final_analysis_test['p4']\n",
    "final_analysis_test['weighted_pred'] = w1*final_analysis_test['pred1'] + w2*final_analysis_test['pred2'] + w3*final_analysis_test['pred3'] + w4*final_analysis_test['pred4']\n",
    "final_analysis_test['weighted_p_v2'] = list(map(lambda x: 1 if x > 1 else x , final_analysis_test['weighted_pred']))\n"
   ]
  },
  {
   "cell_type": "markdown",
   "metadata": {},
   "source": [
    "##### Model 1 "
   ]
  },
  {
   "cell_type": "code",
   "execution_count": 143,
   "metadata": {},
   "outputs": [
    {
     "name": "stdout",
     "output_type": "stream",
     "text": [
      "0.06347381864623244 0.08471212257650507\n"
     ]
    }
   ],
   "source": [
    "test1 = pd.DataFrame()\n",
    "test1['employee_id'] = test['employee_id']\n",
    "test1['prob'] = final_analysis_test['weighted_p_v1']\n",
    "test1['is_promoted'] = list(map(lambda x: 1 if x>= 0.2 else 0, test1['prob']))\n",
    "print(test1['is_promoted'].mean(),test1['prob'].mean())\n",
    "test1[['employee_id','is_promoted']].to_csv(\"../submissions/SubmissionFinal_m1_v1.csv\",index=False)"
   ]
  },
  {
   "cell_type": "code",
   "execution_count": 140,
   "metadata": {},
   "outputs": [
    {
     "name": "stdout",
     "output_type": "stream",
     "text": [
      "Final Score on Analytics Vidhya Portal ->  0.4832022873481058\n"
     ]
    }
   ],
   "source": [
    "print(\"Final Score on Analytics Vidhya Portal -> \",0.4832022873481058 )"
   ]
  },
  {
   "cell_type": "markdown",
   "metadata": {},
   "source": [
    "##### Model 2"
   ]
  },
  {
   "cell_type": "code",
   "execution_count": 149,
   "metadata": {},
   "outputs": [
    {
     "name": "stdout",
     "output_type": "stream",
     "text": [
      "0.06347381864623244 0.08471212257650507\n"
     ]
    }
   ],
   "source": [
    "test2 = pd.DataFrame()\n",
    "test2['employee_id'] = test['employee_id']\n",
    "test2['prob'] = final_analysis_test['weighted_p_v1']\n",
    "test2['is_promoted'] = list(map(lambda x: 1 if x>= 0.2 else 0, test2['prob']))\n",
    "print(test2['is_promoted'].mean(),test2['prob'].mean())\n",
    "test2[['employee_id','is_promoted']].to_csv(\"../submissions/SubmissionFinal_m2_v1.csv\",index=False)"
   ]
  },
  {
   "cell_type": "code",
   "execution_count": 145,
   "metadata": {},
   "outputs": [
    {
     "name": "stdout",
     "output_type": "stream",
     "text": [
      "Final Score on Analytics Vidhya Portal ->  0.460431654676259\n"
     ]
    }
   ],
   "source": [
    "print(\"Final Score on Analytics Vidhya Portal -> \", 0.460431654676259)"
   ]
  },
  {
   "cell_type": "markdown",
   "metadata": {},
   "source": [
    "#### Model 3"
   ]
  },
  {
   "cell_type": "code",
   "execution_count": 150,
   "metadata": {},
   "outputs": [
    {
     "name": "stdout",
     "output_type": "stream",
     "text": [
      "0.0789272030651341 0.0738428795406831\n"
     ]
    }
   ],
   "source": [
    "test3 = pd.DataFrame()\n",
    "test3['employee_id'] = test['employee_id']\n",
    "test3['prob'] = final_analysis_test['weighted_p_v2']\n",
    "test3['is_promoted'] = list(map(lambda x: 1 if x>= 0.25 else 0, test3['prob']))\n",
    "print(test3['is_promoted'].mean(),test3['prob'].mean())\n",
    "test3[['employee_id','is_promoted']].to_csv(\"../submissions/SubmissionFinal_m3_v1.csv\",index=False)"
   ]
  },
  {
   "cell_type": "code",
   "execution_count": 151,
   "metadata": {},
   "outputs": [
    {
     "name": "stdout",
     "output_type": "stream",
     "text": [
      "Final Score on Analytics Vidhya Portal ->  0.07436399217221135\n"
     ]
    }
   ],
   "source": [
    "print(\"Final Score on Analytics Vidhya Portal -> \", 0.07436399217221135)"
   ]
  },
  {
   "cell_type": "markdown",
   "metadata": {},
   "source": [
    "#### Model 4"
   ]
  },
  {
   "cell_type": "code",
   "execution_count": 153,
   "metadata": {},
   "outputs": [
    {
     "name": "stdout",
     "output_type": "stream",
     "text": [
      "0.06389953171562367\n"
     ]
    }
   ],
   "source": [
    "test4 = pd.DataFrame()\n",
    "test4['employee_id'] = test['employee_id']\n",
    "# test4['prob'] = final_analysis_test['weighted_p_v2']\n",
    "test4['is_promoted'] = list(map(lambda a,b,c,d: 1 if (a+b+c+d)>1 else 0, final_analysis_test['pred1'],final_analysis_test['pred2'],final_analysis_test['pred3'],final_analysis_test['pred4']))\n",
    "print(test4['is_promoted'].mean())\n",
    "test4[['employee_id','is_promoted']].to_csv(\"../submissions/SubmissionFinal_m4_v1.csv\",index=False)"
   ]
  },
  {
   "cell_type": "code",
   "execution_count": 154,
   "metadata": {},
   "outputs": [
    {
     "name": "stdout",
     "output_type": "stream",
     "text": [
      "Final Score on Analytics Vidhya Portal ->  0.0756363636363637\n"
     ]
    }
   ],
   "source": [
    "print(\"Final Score on Analytics Vidhya Portal -> \", 0.0756363636363637)"
   ]
  },
  {
   "cell_type": "code",
   "execution_count": null,
   "metadata": {},
   "outputs": [],
   "source": []
  }
 ],
 "metadata": {
  "kernelspec": {
   "display_name": "Python 3",
   "language": "python",
   "name": "python3"
  },
  "language_info": {
   "codemirror_mode": {
    "name": "ipython",
    "version": 3
   },
   "file_extension": ".py",
   "mimetype": "text/x-python",
   "name": "python",
   "nbconvert_exporter": "python",
   "pygments_lexer": "ipython3",
   "version": "3.7.3"
  }
 },
 "nbformat": 4,
 "nbformat_minor": 2
}
